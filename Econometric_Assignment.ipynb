{
 "cells": [
  {
   "cell_type": "code",
   "execution_count": 86,
   "id": "8774af50-6131-4fcd-a412-45d28ebc8600",
   "metadata": {
    "tags": []
   },
   "outputs": [
    {
     "name": "stdout",
     "output_type": "stream",
     "text": [
      "Requirement already satisfied: linearmodels in /Users/rk/anaconda3/lib/python3.11/site-packages (6.0)\n",
      "Requirement already satisfied: numpy<3,>=1.22.3 in /Users/rk/anaconda3/lib/python3.11/site-packages (from linearmodels) (1.24.3)\n",
      "Requirement already satisfied: pandas>=1.4.0 in /Users/rk/anaconda3/lib/python3.11/site-packages (from linearmodels) (1.5.3)\n",
      "Requirement already satisfied: scipy>=1.8.0 in /Users/rk/anaconda3/lib/python3.11/site-packages (from linearmodels) (1.10.1)\n",
      "Requirement already satisfied: statsmodels>=0.13.0 in /Users/rk/anaconda3/lib/python3.11/site-packages (from linearmodels) (0.13.5)\n",
      "Requirement already satisfied: mypy-extensions>=0.4 in /Users/rk/anaconda3/lib/python3.11/site-packages (from linearmodels) (0.4.3)\n",
      "Requirement already satisfied: Cython>=3.0.10 in /Users/rk/anaconda3/lib/python3.11/site-packages (from linearmodels) (3.0.10)\n",
      "Requirement already satisfied: pyhdfe>=0.1 in /Users/rk/anaconda3/lib/python3.11/site-packages (from linearmodels) (0.2.0)\n",
      "Requirement already satisfied: formulaic>=1.0.0 in /Users/rk/anaconda3/lib/python3.11/site-packages (from linearmodels) (1.0.1)\n",
      "Requirement already satisfied: setuptools-scm[toml]<9.0.0,>=8.0.0 in /Users/rk/anaconda3/lib/python3.11/site-packages (from linearmodels) (8.1.0)\n",
      "Requirement already satisfied: interface-meta>=1.2.0 in /Users/rk/anaconda3/lib/python3.11/site-packages (from formulaic>=1.0.0->linearmodels) (1.3.0)\n",
      "Requirement already satisfied: typing-extensions>=4.2.0 in /Users/rk/anaconda3/lib/python3.11/site-packages (from formulaic>=1.0.0->linearmodels) (4.6.3)\n",
      "Requirement already satisfied: wrapt>=1.0 in /Users/rk/anaconda3/lib/python3.11/site-packages (from formulaic>=1.0.0->linearmodels) (1.14.1)\n",
      "Requirement already satisfied: python-dateutil>=2.8.1 in /Users/rk/anaconda3/lib/python3.11/site-packages (from pandas>=1.4.0->linearmodels) (2.8.2)\n",
      "Requirement already satisfied: pytz>=2020.1 in /Users/rk/anaconda3/lib/python3.11/site-packages (from pandas>=1.4.0->linearmodels) (2022.7)\n",
      "Requirement already satisfied: packaging>=20 in /Users/rk/anaconda3/lib/python3.11/site-packages (from setuptools-scm[toml]<9.0.0,>=8.0.0->linearmodels) (23.0)\n",
      "Requirement already satisfied: setuptools in /Users/rk/anaconda3/lib/python3.11/site-packages (from setuptools-scm[toml]<9.0.0,>=8.0.0->linearmodels) (67.8.0)\n",
      "Requirement already satisfied: patsy>=0.5.2 in /Users/rk/anaconda3/lib/python3.11/site-packages (from statsmodels>=0.13.0->linearmodels) (0.5.3)\n",
      "Requirement already satisfied: six in /Users/rk/anaconda3/lib/python3.11/site-packages (from patsy>=0.5.2->statsmodels>=0.13.0->linearmodels) (1.16.0)\n"
     ]
    }
   ],
   "source": [
    "import pandas as pd\n",
    "import numpy as np\n",
    "import math\n",
    "import statsmodels.api as sm\n",
    "from statsmodels.formula.api import ols\n",
    "import matplotlib.pyplot as plt\n",
    "import seaborn as sns\n",
    "from sklearn.model_selection import train_test_split\n",
    "from sklearn.linear_model import LinearRegression\n",
    "from sklearn import metrics\n",
    "%matplotlib inline\n",
    "import scipy.stats as stats\n",
    "from statsmodels.stats.outliers_influence import variance_inflation_factor\n",
    "from patsy import dmatrices\n",
    "\n",
    "!pip install linearmodels\n",
    "from linearmodels.iv import IV2SLS\n",
    "from collections import OrderedDict\n",
    "from linearmodels.iv import compare\n",
    "from linearmodels.iv.results import compare"
   ]
  },
  {
   "cell_type": "markdown",
   "id": "54d6912d-220c-409c-9be9-e8e261125339",
   "metadata": {},
   "source": [
    "# Q1"
   ]
  },
  {
   "cell_type": "code",
   "execution_count": 87,
   "id": "4b7cf724-1de9-49e3-8e03-eee523c54fb0",
   "metadata": {
    "tags": []
   },
   "outputs": [
    {
     "name": "stdout",
     "output_type": "stream",
     "text": [
      "<class 'pandas.core.frame.DataFrame'>\n",
      "RangeIndex: 630 entries, 0 to 629\n",
      "Data columns (total 51 columns):\n",
      " #   Column    Non-Null Count  Dtype  \n",
      "---  ------    --------------  -----  \n",
      " 0   county    630 non-null    int64  \n",
      " 1   year      630 non-null    int64  \n",
      " 2   crmrte    630 non-null    float64\n",
      " 3   prbarr    630 non-null    float64\n",
      " 4   prbconv   630 non-null    float64\n",
      " 5   prbpris   630 non-null    float64\n",
      " 6   avgsen    630 non-null    float64\n",
      " 7   polpc     630 non-null    float64\n",
      " 8   density   630 non-null    float64\n",
      " 9   taxpc     630 non-null    float64\n",
      " 10  west      630 non-null    int64  \n",
      " 11  central   630 non-null    int64  \n",
      " 12  urban     630 non-null    int64  \n",
      " 13  pctmin80  630 non-null    float64\n",
      " 14  wcon      630 non-null    float64\n",
      " 15  wtuc      630 non-null    float64\n",
      " 16  wtrd      630 non-null    float64\n",
      " 17  wfir      630 non-null    float64\n",
      " 18  wser      630 non-null    float64\n",
      " 19  wmfg      630 non-null    float64\n",
      " 20  wfed      630 non-null    float64\n",
      " 21  wsta      630 non-null    float64\n",
      " 22  wloc      630 non-null    float64\n",
      " 23  mix       630 non-null    float64\n",
      " 24  pctymle   630 non-null    float64\n",
      " 25  d82       630 non-null    int64  \n",
      " 26  d83       630 non-null    int64  \n",
      " 27  d84       630 non-null    int64  \n",
      " 28  d85       630 non-null    int64  \n",
      " 29  d86       630 non-null    int64  \n",
      " 30  d87       630 non-null    int64  \n",
      " 31  lcrmrte   630 non-null    float64\n",
      " 32  lprbarr   630 non-null    float64\n",
      " 33  lprbconv  630 non-null    float64\n",
      " 34  lprbpris  630 non-null    float64\n",
      " 35  lavgsen   630 non-null    float64\n",
      " 36  lpolpc    630 non-null    float64\n",
      " 37  ldensity  630 non-null    float64\n",
      " 38  ltaxpc    630 non-null    float64\n",
      " 39  lwcon     630 non-null    float64\n",
      " 40  lwtuc     630 non-null    float64\n",
      " 41  lwtrd     630 non-null    float64\n",
      " 42  lwfir     630 non-null    float64\n",
      " 43  lwser     630 non-null    float64\n",
      " 44  lwmfg     630 non-null    float64\n",
      " 45  lwfed     630 non-null    float64\n",
      " 46  lwsta     630 non-null    float64\n",
      " 47  lwloc     630 non-null    float64\n",
      " 48  lmix      630 non-null    float64\n",
      " 49  lpctymle  630 non-null    float64\n",
      " 50  lpctmin   630 non-null    float64\n",
      "dtypes: float64(40), int64(11)\n",
      "memory usage: 251.1 KB\n"
     ]
    }
   ],
   "source": [
    "df = pd.read_csv(\"crime4.csv\")\n",
    "df.info()"
   ]
  },
  {
   "cell_type": "code",
   "execution_count": 88,
   "id": "d3af2230-5d65-4944-b3f4-fc4caad48332",
   "metadata": {
    "tags": []
   },
   "outputs": [
    {
     "data": {
      "text/plain": [
       "county      0\n",
       "year        0\n",
       "crmrte      0\n",
       "prbarr      0\n",
       "prbconv     0\n",
       "prbpris     0\n",
       "avgsen      0\n",
       "polpc       0\n",
       "density     0\n",
       "taxpc       0\n",
       "west        0\n",
       "central     0\n",
       "urban       0\n",
       "pctmin80    0\n",
       "wcon        0\n",
       "wtuc        0\n",
       "wtrd        0\n",
       "wfir        0\n",
       "wser        0\n",
       "wmfg        0\n",
       "wfed        0\n",
       "wsta        0\n",
       "wloc        0\n",
       "mix         0\n",
       "pctymle     0\n",
       "d82         0\n",
       "d83         0\n",
       "d84         0\n",
       "d85         0\n",
       "d86         0\n",
       "d87         0\n",
       "lcrmrte     0\n",
       "lprbarr     0\n",
       "lprbconv    0\n",
       "lprbpris    0\n",
       "lavgsen     0\n",
       "lpolpc      0\n",
       "ldensity    0\n",
       "ltaxpc      0\n",
       "lwcon       0\n",
       "lwtuc       0\n",
       "lwtrd       0\n",
       "lwfir       0\n",
       "lwser       0\n",
       "lwmfg       0\n",
       "lwfed       0\n",
       "lwsta       0\n",
       "lwloc       0\n",
       "lmix        0\n",
       "lpctymle    0\n",
       "lpctmin     0\n",
       "dtype: int64"
      ]
     },
     "execution_count": 88,
     "metadata": {},
     "output_type": "execute_result"
    }
   ],
   "source": [
    "# NO NAN \n",
    "df.isnull().sum()"
   ]
  },
  {
   "cell_type": "code",
   "execution_count": 89,
   "id": "ab1af3ea-4afd-4db5-8615-e1a5f5a8a0f8",
   "metadata": {
    "tags": []
   },
   "outputs": [
    {
     "data": {
      "text/html": [
       "<div>\n",
       "<style scoped>\n",
       "    .dataframe tbody tr th:only-of-type {\n",
       "        vertical-align: middle;\n",
       "    }\n",
       "\n",
       "    .dataframe tbody tr th {\n",
       "        vertical-align: top;\n",
       "    }\n",
       "\n",
       "    .dataframe thead th {\n",
       "        text-align: right;\n",
       "    }\n",
       "</style>\n",
       "<table border=\"1\" class=\"dataframe\">\n",
       "  <thead>\n",
       "    <tr style=\"text-align: right;\">\n",
       "      <th></th>\n",
       "      <th>county</th>\n",
       "      <th>year</th>\n",
       "      <th>crmrte</th>\n",
       "      <th>prbarr</th>\n",
       "      <th>prbconv</th>\n",
       "      <th>prbpris</th>\n",
       "      <th>avgsen</th>\n",
       "      <th>polpc</th>\n",
       "      <th>density</th>\n",
       "      <th>taxpc</th>\n",
       "      <th>...</th>\n",
       "      <th>lwtrd</th>\n",
       "      <th>lwfir</th>\n",
       "      <th>lwser</th>\n",
       "      <th>lwmfg</th>\n",
       "      <th>lwfed</th>\n",
       "      <th>lwsta</th>\n",
       "      <th>lwloc</th>\n",
       "      <th>lmix</th>\n",
       "      <th>lpctymle</th>\n",
       "      <th>lpctmin</th>\n",
       "    </tr>\n",
       "  </thead>\n",
       "  <tbody>\n",
       "    <tr>\n",
       "      <th>count</th>\n",
       "      <td>630.00000</td>\n",
       "      <td>630.000000</td>\n",
       "      <td>630.000000</td>\n",
       "      <td>630.000000</td>\n",
       "      <td>630.000000</td>\n",
       "      <td>630.000000</td>\n",
       "      <td>630.000000</td>\n",
       "      <td>630.000000</td>\n",
       "      <td>630.000000</td>\n",
       "      <td>630.000000</td>\n",
       "      <td>...</td>\n",
       "      <td>630.000000</td>\n",
       "      <td>630.000000</td>\n",
       "      <td>630.000000</td>\n",
       "      <td>630.000000</td>\n",
       "      <td>630.000000</td>\n",
       "      <td>630.000000</td>\n",
       "      <td>630.000000</td>\n",
       "      <td>630.000000</td>\n",
       "      <td>630.000000</td>\n",
       "      <td>630.000000</td>\n",
       "    </tr>\n",
       "    <tr>\n",
       "      <th>mean</th>\n",
       "      <td>100.60000</td>\n",
       "      <td>84.000000</td>\n",
       "      <td>0.031588</td>\n",
       "      <td>0.307368</td>\n",
       "      <td>0.688618</td>\n",
       "      <td>0.425518</td>\n",
       "      <td>8.954540</td>\n",
       "      <td>0.001917</td>\n",
       "      <td>1.386062</td>\n",
       "      <td>30.239194</td>\n",
       "      <td>...</td>\n",
       "      <td>5.232423</td>\n",
       "      <td>5.579433</td>\n",
       "      <td>5.364625</td>\n",
       "      <td>5.615181</td>\n",
       "      <td>5.988757</td>\n",
       "      <td>5.677787</td>\n",
       "      <td>5.540139</td>\n",
       "      <td>-2.234233</td>\n",
       "      <td>-2.443015</td>\n",
       "      <td>2.913361</td>\n",
       "    </tr>\n",
       "    <tr>\n",
       "      <th>std</th>\n",
       "      <td>58.03627</td>\n",
       "      <td>2.001589</td>\n",
       "      <td>0.018121</td>\n",
       "      <td>0.171205</td>\n",
       "      <td>1.690345</td>\n",
       "      <td>0.087245</td>\n",
       "      <td>2.658082</td>\n",
       "      <td>0.002735</td>\n",
       "      <td>1.439703</td>\n",
       "      <td>11.454695</td>\n",
       "      <td>...</td>\n",
       "      <td>0.214391</td>\n",
       "      <td>0.277204</td>\n",
       "      <td>0.360098</td>\n",
       "      <td>0.272747</td>\n",
       "      <td>0.158761</td>\n",
       "      <td>0.176131</td>\n",
       "      <td>0.159691</td>\n",
       "      <td>0.649565</td>\n",
       "      <td>0.196784</td>\n",
       "      <td>0.954615</td>\n",
       "    </tr>\n",
       "    <tr>\n",
       "      <th>min</th>\n",
       "      <td>1.00000</td>\n",
       "      <td>81.000000</td>\n",
       "      <td>0.001812</td>\n",
       "      <td>0.058824</td>\n",
       "      <td>0.068376</td>\n",
       "      <td>0.148936</td>\n",
       "      <td>4.220000</td>\n",
       "      <td>0.000458</td>\n",
       "      <td>0.197719</td>\n",
       "      <td>14.302560</td>\n",
       "      <td>...</td>\n",
       "      <td>2.825760</td>\n",
       "      <td>1.257233</td>\n",
       "      <td>0.611825</td>\n",
       "      <td>4.623305</td>\n",
       "      <td>5.542831</td>\n",
       "      <td>5.153407</td>\n",
       "      <td>5.097363</td>\n",
       "      <td>-6.008814</td>\n",
       "      <td>-2.778080</td>\n",
       "      <td>0.249708</td>\n",
       "    </tr>\n",
       "    <tr>\n",
       "      <th>25%</th>\n",
       "      <td>51.00000</td>\n",
       "      <td>82.000000</td>\n",
       "      <td>0.018352</td>\n",
       "      <td>0.217902</td>\n",
       "      <td>0.347692</td>\n",
       "      <td>0.374403</td>\n",
       "      <td>7.160000</td>\n",
       "      <td>0.001191</td>\n",
       "      <td>0.532944</td>\n",
       "      <td>23.425595</td>\n",
       "      <td>...</td>\n",
       "      <td>5.124259</td>\n",
       "      <td>5.462580</td>\n",
       "      <td>5.253943</td>\n",
       "      <td>5.455450</td>\n",
       "      <td>5.890330</td>\n",
       "      <td>5.553570</td>\n",
       "      <td>5.424002</td>\n",
       "      <td>-2.585961</td>\n",
       "      <td>-2.543456</td>\n",
       "      <td>2.303045</td>\n",
       "    </tr>\n",
       "    <tr>\n",
       "      <th>50%</th>\n",
       "      <td>103.00000</td>\n",
       "      <td>84.000000</td>\n",
       "      <td>0.028441</td>\n",
       "      <td>0.278240</td>\n",
       "      <td>0.474375</td>\n",
       "      <td>0.428571</td>\n",
       "      <td>8.495000</td>\n",
       "      <td>0.001451</td>\n",
       "      <td>0.952595</td>\n",
       "      <td>27.792330</td>\n",
       "      <td>...</td>\n",
       "      <td>5.222935</td>\n",
       "      <td>5.577550</td>\n",
       "      <td>5.377477</td>\n",
       "      <td>5.604311</td>\n",
       "      <td>6.001366</td>\n",
       "      <td>5.667706</td>\n",
       "      <td>5.533923</td>\n",
       "      <td>-2.281916</td>\n",
       "      <td>-2.486930</td>\n",
       "      <td>3.212684</td>\n",
       "    </tr>\n",
       "    <tr>\n",
       "      <th>75%</th>\n",
       "      <td>151.00000</td>\n",
       "      <td>86.000000</td>\n",
       "      <td>0.038406</td>\n",
       "      <td>0.352518</td>\n",
       "      <td>0.635597</td>\n",
       "      <td>0.483189</td>\n",
       "      <td>10.197500</td>\n",
       "      <td>0.001803</td>\n",
       "      <td>1.507818</td>\n",
       "      <td>33.271223</td>\n",
       "      <td>...</td>\n",
       "      <td>5.322137</td>\n",
       "      <td>5.711883</td>\n",
       "      <td>5.510016</td>\n",
       "      <td>5.768172</td>\n",
       "      <td>6.097062</td>\n",
       "      <td>5.803605</td>\n",
       "      <td>5.667369</td>\n",
       "      <td>-1.903749</td>\n",
       "      <td>-2.416943</td>\n",
       "      <td>3.643437</td>\n",
       "    </tr>\n",
       "    <tr>\n",
       "      <th>max</th>\n",
       "      <td>197.00000</td>\n",
       "      <td>87.000000</td>\n",
       "      <td>0.163835</td>\n",
       "      <td>2.750000</td>\n",
       "      <td>37.000000</td>\n",
       "      <td>0.678571</td>\n",
       "      <td>25.830000</td>\n",
       "      <td>0.035578</td>\n",
       "      <td>8.827652</td>\n",
       "      <td>119.761500</td>\n",
       "      <td>...</td>\n",
       "      <td>7.715457</td>\n",
       "      <td>6.233362</td>\n",
       "      <td>7.685734</td>\n",
       "      <td>6.472115</td>\n",
       "      <td>6.393507</td>\n",
       "      <td>6.306275</td>\n",
       "      <td>5.961237</td>\n",
       "      <td>1.386294</td>\n",
       "      <td>-1.293320</td>\n",
       "      <td>4.164309</td>\n",
       "    </tr>\n",
       "  </tbody>\n",
       "</table>\n",
       "<p>8 rows × 51 columns</p>\n",
       "</div>"
      ],
      "text/plain": [
       "          county        year      crmrte      prbarr     prbconv     prbpris  \\\n",
       "count  630.00000  630.000000  630.000000  630.000000  630.000000  630.000000   \n",
       "mean   100.60000   84.000000    0.031588    0.307368    0.688618    0.425518   \n",
       "std     58.03627    2.001589    0.018121    0.171205    1.690345    0.087245   \n",
       "min      1.00000   81.000000    0.001812    0.058824    0.068376    0.148936   \n",
       "25%     51.00000   82.000000    0.018352    0.217902    0.347692    0.374403   \n",
       "50%    103.00000   84.000000    0.028441    0.278240    0.474375    0.428571   \n",
       "75%    151.00000   86.000000    0.038406    0.352518    0.635597    0.483189   \n",
       "max    197.00000   87.000000    0.163835    2.750000   37.000000    0.678571   \n",
       "\n",
       "           avgsen       polpc     density       taxpc  ...       lwtrd  \\\n",
       "count  630.000000  630.000000  630.000000  630.000000  ...  630.000000   \n",
       "mean     8.954540    0.001917    1.386062   30.239194  ...    5.232423   \n",
       "std      2.658082    0.002735    1.439703   11.454695  ...    0.214391   \n",
       "min      4.220000    0.000458    0.197719   14.302560  ...    2.825760   \n",
       "25%      7.160000    0.001191    0.532944   23.425595  ...    5.124259   \n",
       "50%      8.495000    0.001451    0.952595   27.792330  ...    5.222935   \n",
       "75%     10.197500    0.001803    1.507818   33.271223  ...    5.322137   \n",
       "max     25.830000    0.035578    8.827652  119.761500  ...    7.715457   \n",
       "\n",
       "            lwfir       lwser       lwmfg       lwfed       lwsta       lwloc  \\\n",
       "count  630.000000  630.000000  630.000000  630.000000  630.000000  630.000000   \n",
       "mean     5.579433    5.364625    5.615181    5.988757    5.677787    5.540139   \n",
       "std      0.277204    0.360098    0.272747    0.158761    0.176131    0.159691   \n",
       "min      1.257233    0.611825    4.623305    5.542831    5.153407    5.097363   \n",
       "25%      5.462580    5.253943    5.455450    5.890330    5.553570    5.424002   \n",
       "50%      5.577550    5.377477    5.604311    6.001366    5.667706    5.533923   \n",
       "75%      5.711883    5.510016    5.768172    6.097062    5.803605    5.667369   \n",
       "max      6.233362    7.685734    6.472115    6.393507    6.306275    5.961237   \n",
       "\n",
       "             lmix    lpctymle     lpctmin  \n",
       "count  630.000000  630.000000  630.000000  \n",
       "mean    -2.234233   -2.443015    2.913361  \n",
       "std      0.649565    0.196784    0.954615  \n",
       "min     -6.008814   -2.778080    0.249708  \n",
       "25%     -2.585961   -2.543456    2.303045  \n",
       "50%     -2.281916   -2.486930    3.212684  \n",
       "75%     -1.903749   -2.416943    3.643437  \n",
       "max      1.386294   -1.293320    4.164309  \n",
       "\n",
       "[8 rows x 51 columns]"
      ]
     },
     "execution_count": 89,
     "metadata": {},
     "output_type": "execute_result"
    }
   ],
   "source": [
    "df.describe()"
   ]
  },
  {
   "cell_type": "code",
   "execution_count": 90,
   "id": "4ae3dc1c-b6c4-4b2a-bc10-9b4ac3244d80",
   "metadata": {
    "tags": []
   },
   "outputs": [
    {
     "data": {
      "text/plain": [
       "(630, 51)"
      ]
     },
     "execution_count": 90,
     "metadata": {},
     "output_type": "execute_result"
    }
   ],
   "source": [
    "#1.\n",
    "df.shape\n",
    "# There are 630 observations in the sumple  "
   ]
  },
  {
   "cell_type": "code",
   "execution_count": 91,
   "id": "ebb79807-5552-454c-a8c3-cf48f6f13155",
   "metadata": {
    "tags": []
   },
   "outputs": [
    {
     "name": "stdout",
     "output_type": "stream",
     "text": [
      "Panel Data years:\n",
      " [81 82 83 84 85 86 87]\n",
      "\n",
      "year\n",
      "81    90\n",
      "82    90\n",
      "83    90\n",
      "84    90\n",
      "85    90\n",
      "86    90\n",
      "87    90\n",
      "Name: county, dtype: int64\n"
     ]
    }
   ],
   "source": [
    "#2.\n",
    "print(\"Panel Data years:\\n\",df.year.unique())\n",
    "print()\n",
    "print(df.groupby(by = 'year').count().county)\n",
    "\n",
    "# The observation are between 1981-1987.\n",
    "# There are 90 observations from each year."
   ]
  },
  {
   "cell_type": "code",
   "execution_count": 92,
   "id": "afb6e5f0-b430-481e-8789-ae3c9e910c8b",
   "metadata": {
    "tags": []
   },
   "outputs": [
    {
     "name": "stdout",
     "output_type": "stream",
     "text": [
      "Number of counties:\n",
      " 90\n"
     ]
    }
   ],
   "source": [
    "#3.\n",
    "print(\"Number of counties:\\n\",df.county.nunique())"
   ]
  },
  {
   "cell_type": "code",
   "execution_count": 93,
   "id": "294f4eee-c68f-42a3-aaab-b157f6b171fc",
   "metadata": {
    "tags": []
   },
   "outputs": [
    {
     "data": {
      "text/plain": [
       "7.0"
      ]
     },
     "execution_count": 93,
     "metadata": {},
     "output_type": "execute_result"
    }
   ],
   "source": [
    "NumObs = df.shape[0]\n",
    "NumCounty = df.county.nunique()\n",
    "\n",
    "Rate = NumObs / NumCounty\n",
    "Rate\n",
    "\n",
    "# The rate between the number of observations and the number of counties is 7. \n",
    "# For every county we have 7 observations.\n",
    "# The reason is that for every county we have a seperate observation for each year of the sample."
   ]
  },
  {
   "cell_type": "markdown",
   "id": "d9473591-0c6d-4035-84cd-28434d0900bc",
   "metadata": {},
   "source": [
    "# Q2"
   ]
  },
  {
   "cell_type": "code",
   "execution_count": 94,
   "id": "095a8f4b-ef83-4db6-8220-30169693abe3",
   "metadata": {
    "tags": []
   },
   "outputs": [
    {
     "data": {
      "text/html": [
       "<div>\n",
       "<style scoped>\n",
       "    .dataframe tbody tr th:only-of-type {\n",
       "        vertical-align: middle;\n",
       "    }\n",
       "\n",
       "    .dataframe tbody tr th {\n",
       "        vertical-align: top;\n",
       "    }\n",
       "\n",
       "    .dataframe thead th {\n",
       "        text-align: right;\n",
       "    }\n",
       "</style>\n",
       "<table border=\"1\" class=\"dataframe\">\n",
       "  <thead>\n",
       "    <tr style=\"text-align: right;\">\n",
       "      <th></th>\n",
       "      <th>polpc</th>\n",
       "      <th>crmrte</th>\n",
       "    </tr>\n",
       "    <tr>\n",
       "      <th>year</th>\n",
       "      <th></th>\n",
       "      <th></th>\n",
       "    </tr>\n",
       "  </thead>\n",
       "  <tbody>\n",
       "    <tr>\n",
       "      <th>81</th>\n",
       "      <td>0.001722</td>\n",
       "      <td>0.032750</td>\n",
       "    </tr>\n",
       "    <tr>\n",
       "      <th>82</th>\n",
       "      <td>0.001697</td>\n",
       "      <td>0.032648</td>\n",
       "    </tr>\n",
       "    <tr>\n",
       "      <th>83</th>\n",
       "      <td>0.001873</td>\n",
       "      <td>0.030708</td>\n",
       "    </tr>\n",
       "    <tr>\n",
       "      <th>84</th>\n",
       "      <td>0.002162</td>\n",
       "      <td>0.029452</td>\n",
       "    </tr>\n",
       "    <tr>\n",
       "      <th>85</th>\n",
       "      <td>0.002230</td>\n",
       "      <td>0.029759</td>\n",
       "    </tr>\n",
       "    <tr>\n",
       "      <th>86</th>\n",
       "      <td>0.002025</td>\n",
       "      <td>0.032286</td>\n",
       "    </tr>\n",
       "    <tr>\n",
       "      <th>87</th>\n",
       "      <td>0.001708</td>\n",
       "      <td>0.033510</td>\n",
       "    </tr>\n",
       "  </tbody>\n",
       "</table>\n",
       "</div>"
      ],
      "text/plain": [
       "         polpc    crmrte\n",
       "year                    \n",
       "81    0.001722  0.032750\n",
       "82    0.001697  0.032648\n",
       "83    0.001873  0.030708\n",
       "84    0.002162  0.029452\n",
       "85    0.002230  0.029759\n",
       "86    0.002025  0.032286\n",
       "87    0.001708  0.033510"
      ]
     },
     "execution_count": 94,
     "metadata": {},
     "output_type": "execute_result"
    }
   ],
   "source": [
    "#1.\n",
    "grouped_df = df.groupby(by=\"year\").mean() \n",
    "result = grouped_df[['polpc', 'crmrte']]\n",
    "result"
   ]
  },
  {
   "cell_type": "code",
   "execution_count": 95,
   "id": "89209b1a-cc26-4fca-ad52-dbb1eebc94f1",
   "metadata": {
    "tags": []
   },
   "outputs": [],
   "source": [
    "# Between the years 1981-1987 The number of police officers per capita has increased and then decreased.\n",
    "# Between the years 1981-1987 The crime rate has decreased and then increased."
   ]
  },
  {
   "cell_type": "code",
   "execution_count": 96,
   "id": "0e485d18-e298-4ee8-b06c-ca7b647d6767",
   "metadata": {
    "tags": []
   },
   "outputs": [],
   "source": [
    "#2.\n",
    "df81 = df.loc[df.year == 81]\n",
    "df84 = df.loc[df.year == 84]\n",
    "df87 = df.loc[df.year == 87]"
   ]
  },
  {
   "cell_type": "code",
   "execution_count": 97,
   "id": "de5307c9-45c7-41f3-b562-666347f382ea",
   "metadata": {
    "tags": []
   },
   "outputs": [
    {
     "data": {
      "text/plain": [
       "Text(0.5, 1.0, '1981')"
      ]
     },
     "execution_count": 97,
     "metadata": {},
     "output_type": "execute_result"
    },
    {
     "data": {
      "image/png": "[encoded data removed]",
      "text/plain": [
       "<Figure size 640x480 with 1 Axes>"
      ]
     },
     "metadata": {},
     "output_type": "display_data"
    }
   ],
   "source": [
    "sns.scatterplot( x = df81.polpc, y = df81.crmrte)\n",
    "plt.title(\"1981\")"
   ]
  },
  {
   "cell_type": "code",
   "execution_count": 98,
   "id": "a6605183-4839-4de6-b976-5d4a9a9ff0ec",
   "metadata": {
    "tags": []
   },
   "outputs": [
    {
     "data": {
      "text/plain": [
       "Text(0.5, 1.0, '1984')"
      ]
     },
     "execution_count": 98,
     "metadata": {},
     "output_type": "execute_result"
    },
    {
     "data": {
      "image/png": "[encoded data removed]",
      "text/plain": [
       "<Figure size 640x480 with 1 Axes>"
      ]
     },
     "metadata": {},
     "output_type": "display_data"
    }
   ],
   "source": [
    "sns.scatterplot( x = df84.polpc, y = df84.crmrte, color = 'red')\n",
    "plt.title(\"1984\")"
   ]
  },
  {
   "cell_type": "code",
   "execution_count": 99,
   "id": "c81f44ba-1783-4939-9c07-fc8e0a4634e0",
   "metadata": {
    "tags": []
   },
   "outputs": [
    {
     "data": {
      "text/plain": [
       "Text(0.5, 1.0, '1987')"
      ]
     },
     "execution_count": 99,
     "metadata": {},
     "output_type": "execute_result"
    },
    {
     "data": {
      "image/png": "[encoded data removed]",
      "text/plain": [
       "<Figure size 640x480 with 1 Axes>"
      ]
     },
     "metadata": {},
     "output_type": "display_data"
    }
   ],
   "source": [
    "sns.scatterplot( x = df87.polpc, y = df87.crmrte, color = 'green')\n",
    "plt.title(\"1987\")"
   ]
  },
  {
   "cell_type": "code",
   "execution_count": 100,
   "id": "0c482ac2-96f0-4549-a745-46d167d86998",
   "metadata": {
    "tags": []
   },
   "outputs": [],
   "source": [
    "# According to the graphs from the years 81,84 and 87, there is unclear conclusion.\n",
    "# The researcher claims that the number of policeman per capita affects negatively which is unclear \n",
    "# to see from the graphs. We can not assume a negative effect based on this data.\n",
    "# Furthermore, without seeing what happened in each county we can't assume that each county has the same effect."
   ]
  },
  {
   "cell_type": "markdown",
   "id": "776505f1-c5cf-4b66-b7b6-e6a899ac67b6",
   "metadata": {},
   "source": [
    "# Q3"
   ]
  },
  {
   "cell_type": "code",
   "execution_count": 101,
   "id": "fe4c14e8-9dcf-4fdc-8a15-1b75e659aa00",
   "metadata": {
    "tags": []
   },
   "outputs": [],
   "source": [
    "df_west87 = df.loc[(df.year == 87) & (df.west == 1)]\n",
    "df_west82 = df.loc[(df.year == 82) & (df.west == 1)]"
   ]
  },
  {
   "cell_type": "code",
   "execution_count": 102,
   "id": "f7440a29-ec27-4508-92a3-ba38f87b3b32",
   "metadata": {
    "tags": []
   },
   "outputs": [
    {
     "data": {
      "text/html": [
       "<div>\n",
       "<style scoped>\n",
       "    .dataframe tbody tr th:only-of-type {\n",
       "        vertical-align: middle;\n",
       "    }\n",
       "\n",
       "    .dataframe tbody tr th {\n",
       "        vertical-align: top;\n",
       "    }\n",
       "\n",
       "    .dataframe thead th {\n",
       "        text-align: right;\n",
       "    }\n",
       "</style>\n",
       "<table border=\"1\" class=\"dataframe\">\n",
       "  <thead>\n",
       "    <tr style=\"text-align: right;\">\n",
       "      <th></th>\n",
       "      <th>polpc</th>\n",
       "      <th>crmrte</th>\n",
       "    </tr>\n",
       "  </thead>\n",
       "  <tbody>\n",
       "    <tr>\n",
       "      <th>count</th>\n",
       "      <td>21.000000</td>\n",
       "      <td>21.000000</td>\n",
       "    </tr>\n",
       "    <tr>\n",
       "      <th>mean</th>\n",
       "      <td>0.001965</td>\n",
       "      <td>0.020561</td>\n",
       "    </tr>\n",
       "    <tr>\n",
       "      <th>std</th>\n",
       "      <td>0.001719</td>\n",
       "      <td>0.009549</td>\n",
       "    </tr>\n",
       "    <tr>\n",
       "      <th>min</th>\n",
       "      <td>0.000860</td>\n",
       "      <td>0.005533</td>\n",
       "    </tr>\n",
       "    <tr>\n",
       "      <th>25%</th>\n",
       "      <td>0.001234</td>\n",
       "      <td>0.014193</td>\n",
       "    </tr>\n",
       "    <tr>\n",
       "      <th>50%</th>\n",
       "      <td>0.001516</td>\n",
       "      <td>0.017187</td>\n",
       "    </tr>\n",
       "    <tr>\n",
       "      <th>75%</th>\n",
       "      <td>0.001830</td>\n",
       "      <td>0.026984</td>\n",
       "    </tr>\n",
       "    <tr>\n",
       "      <th>max</th>\n",
       "      <td>0.009054</td>\n",
       "      <td>0.043735</td>\n",
       "    </tr>\n",
       "  </tbody>\n",
       "</table>\n",
       "</div>"
      ],
      "text/plain": [
       "           polpc     crmrte\n",
       "count  21.000000  21.000000\n",
       "mean    0.001965   0.020561\n",
       "std     0.001719   0.009549\n",
       "min     0.000860   0.005533\n",
       "25%     0.001234   0.014193\n",
       "50%     0.001516   0.017187\n",
       "75%     0.001830   0.026984\n",
       "max     0.009054   0.043735"
      ]
     },
     "execution_count": 102,
     "metadata": {},
     "output_type": "execute_result"
    }
   ],
   "source": [
    "describe_west87 = df_west87.loc[:,['polpc','crmrte']].describe()\n",
    "describe_west87"
   ]
  },
  {
   "cell_type": "code",
   "execution_count": 103,
   "id": "32ae9a8b-b8ad-4fd0-938b-aae3469b1b2c",
   "metadata": {
    "tags": []
   },
   "outputs": [
    {
     "data": {
      "text/html": [
       "<div>\n",
       "<style scoped>\n",
       "    .dataframe tbody tr th:only-of-type {\n",
       "        vertical-align: middle;\n",
       "    }\n",
       "\n",
       "    .dataframe tbody tr th {\n",
       "        vertical-align: top;\n",
       "    }\n",
       "\n",
       "    .dataframe thead th {\n",
       "        text-align: right;\n",
       "    }\n",
       "</style>\n",
       "<table border=\"1\" class=\"dataframe\">\n",
       "  <thead>\n",
       "    <tr style=\"text-align: right;\">\n",
       "      <th></th>\n",
       "      <th>polpc</th>\n",
       "      <th>crmrte</th>\n",
       "    </tr>\n",
       "  </thead>\n",
       "  <tbody>\n",
       "    <tr>\n",
       "      <th>count</th>\n",
       "      <td>21.000000</td>\n",
       "      <td>21.000000</td>\n",
       "    </tr>\n",
       "    <tr>\n",
       "      <th>mean</th>\n",
       "      <td>0.002042</td>\n",
       "      <td>0.020832</td>\n",
       "    </tr>\n",
       "    <tr>\n",
       "      <th>std</th>\n",
       "      <td>0.002658</td>\n",
       "      <td>0.008986</td>\n",
       "    </tr>\n",
       "    <tr>\n",
       "      <th>min</th>\n",
       "      <td>0.000739</td>\n",
       "      <td>0.003660</td>\n",
       "    </tr>\n",
       "    <tr>\n",
       "      <th>25%</th>\n",
       "      <td>0.001070</td>\n",
       "      <td>0.016447</td>\n",
       "    </tr>\n",
       "    <tr>\n",
       "      <th>50%</th>\n",
       "      <td>0.001368</td>\n",
       "      <td>0.019854</td>\n",
       "    </tr>\n",
       "    <tr>\n",
       "      <th>75%</th>\n",
       "      <td>0.001541</td>\n",
       "      <td>0.029021</td>\n",
       "    </tr>\n",
       "    <tr>\n",
       "      <th>max</th>\n",
       "      <td>0.012809</td>\n",
       "      <td>0.037154</td>\n",
       "    </tr>\n",
       "  </tbody>\n",
       "</table>\n",
       "</div>"
      ],
      "text/plain": [
       "           polpc     crmrte\n",
       "count  21.000000  21.000000\n",
       "mean    0.002042   0.020832\n",
       "std     0.002658   0.008986\n",
       "min     0.000739   0.003660\n",
       "25%     0.001070   0.016447\n",
       "50%     0.001368   0.019854\n",
       "75%     0.001541   0.029021\n",
       "max     0.012809   0.037154"
      ]
     },
     "execution_count": 103,
     "metadata": {},
     "output_type": "execute_result"
    }
   ],
   "source": [
    "describe_west82 = df_west82.loc[:,['polpc','crmrte']].describe()\n",
    "describe_west82"
   ]
  },
  {
   "cell_type": "code",
   "execution_count": 104,
   "id": "3f876192-964d-4dbc-9c12-9f70840a89dc",
   "metadata": {
    "tags": []
   },
   "outputs": [
    {
     "data": {
      "text/html": [
       "<div>\n",
       "<style scoped>\n",
       "    .dataframe tbody tr th:only-of-type {\n",
       "        vertical-align: middle;\n",
       "    }\n",
       "\n",
       "    .dataframe tbody tr th {\n",
       "        vertical-align: top;\n",
       "    }\n",
       "\n",
       "    .dataframe thead th {\n",
       "        text-align: right;\n",
       "    }\n",
       "</style>\n",
       "<table border=\"1\" class=\"dataframe\">\n",
       "  <thead>\n",
       "    <tr style=\"text-align: right;\">\n",
       "      <th></th>\n",
       "      <th>polpc</th>\n",
       "      <th>crmrte</th>\n",
       "    </tr>\n",
       "  </thead>\n",
       "  <tbody>\n",
       "    <tr>\n",
       "      <th>count</th>\n",
       "      <td>0.000000</td>\n",
       "      <td>0.000000</td>\n",
       "    </tr>\n",
       "    <tr>\n",
       "      <th>mean</th>\n",
       "      <td>-0.000077</td>\n",
       "      <td>-0.000271</td>\n",
       "    </tr>\n",
       "    <tr>\n",
       "      <th>std</th>\n",
       "      <td>-0.000939</td>\n",
       "      <td>0.000563</td>\n",
       "    </tr>\n",
       "    <tr>\n",
       "      <th>min</th>\n",
       "      <td>0.000121</td>\n",
       "      <td>0.001874</td>\n",
       "    </tr>\n",
       "    <tr>\n",
       "      <th>25%</th>\n",
       "      <td>0.000165</td>\n",
       "      <td>-0.002255</td>\n",
       "    </tr>\n",
       "    <tr>\n",
       "      <th>50%</th>\n",
       "      <td>0.000148</td>\n",
       "      <td>-0.002667</td>\n",
       "    </tr>\n",
       "    <tr>\n",
       "      <th>75%</th>\n",
       "      <td>0.000289</td>\n",
       "      <td>-0.002038</td>\n",
       "    </tr>\n",
       "    <tr>\n",
       "      <th>max</th>\n",
       "      <td>-0.003755</td>\n",
       "      <td>0.006581</td>\n",
       "    </tr>\n",
       "  </tbody>\n",
       "</table>\n",
       "</div>"
      ],
      "text/plain": [
       "          polpc    crmrte\n",
       "count  0.000000  0.000000\n",
       "mean  -0.000077 -0.000271\n",
       "std   -0.000939  0.000563\n",
       "min    0.000121  0.001874\n",
       "25%    0.000165 -0.002255\n",
       "50%    0.000148 -0.002667\n",
       "75%    0.000289 -0.002038\n",
       "max   -0.003755  0.006581"
      ]
     },
     "execution_count": 104,
     "metadata": {},
     "output_type": "execute_result"
    }
   ],
   "source": [
    "descdiff_west = describe_west87 - describe_west82\n",
    "descdiff_west"
   ]
  },
  {
   "cell_type": "code",
   "execution_count": 105,
   "id": "7b807725-f4ba-48b5-98e1-f0583303bb1b",
   "metadata": {
    "tags": []
   },
   "outputs": [],
   "source": [
    "# As we can see from descdiff_west dataframe, there is a decrease in the avarege value of policeman per capita\n",
    "# from 1984 to 1987 and also decrease in the crime rate. \n",
    "# But, as we said before, without further investigation we can not support or deny the researcher claim\n",
    "# From the reasons we mantioned above."
   ]
  },
  {
   "cell_type": "markdown",
   "id": "07575d3f-9c62-4899-8fbd-96dae9892c68",
   "metadata": {},
   "source": [
    "# Q4"
   ]
  },
  {
   "cell_type": "code",
   "execution_count": 106,
   "id": "ca9ba655-daec-4a36-a946-af81ba6b3033",
   "metadata": {
    "tags": []
   },
   "outputs": [],
   "source": [
    "west87_mean = describe_west87.loc['mean',:]\n",
    "west82_mean = describe_west82.loc['mean',:]"
   ]
  },
  {
   "cell_type": "code",
   "execution_count": 107,
   "id": "6a9d2936-e07d-44f2-9814-aa927a60a32f",
   "metadata": {
    "tags": []
   },
   "outputs": [],
   "source": [
    "df_central87 = df.loc[(df.year == 87) & (df.central == 1)]\n",
    "df_central82 = df.loc[(df.year == 82) & (df.central == 1)]"
   ]
  },
  {
   "cell_type": "code",
   "execution_count": 108,
   "id": "b4f3b32f-0d54-41c1-9f6c-03af39f93f94",
   "metadata": {
    "tags": []
   },
   "outputs": [
    {
     "data": {
      "text/html": [
       "<div>\n",
       "<style scoped>\n",
       "    .dataframe tbody tr th:only-of-type {\n",
       "        vertical-align: middle;\n",
       "    }\n",
       "\n",
       "    .dataframe tbody tr th {\n",
       "        vertical-align: top;\n",
       "    }\n",
       "\n",
       "    .dataframe thead th {\n",
       "        text-align: right;\n",
       "    }\n",
       "</style>\n",
       "<table border=\"1\" class=\"dataframe\">\n",
       "  <thead>\n",
       "    <tr style=\"text-align: right;\">\n",
       "      <th></th>\n",
       "      <th>polpc</th>\n",
       "      <th>crmrte</th>\n",
       "    </tr>\n",
       "  </thead>\n",
       "  <tbody>\n",
       "    <tr>\n",
       "      <th>count</th>\n",
       "      <td>34.000000</td>\n",
       "      <td>34.000000</td>\n",
       "    </tr>\n",
       "    <tr>\n",
       "      <th>mean</th>\n",
       "      <td>0.001650</td>\n",
       "      <td>0.037508</td>\n",
       "    </tr>\n",
       "    <tr>\n",
       "      <th>std</th>\n",
       "      <td>0.000477</td>\n",
       "      <td>0.019878</td>\n",
       "    </tr>\n",
       "    <tr>\n",
       "      <th>min</th>\n",
       "      <td>0.000746</td>\n",
       "      <td>0.010870</td>\n",
       "    </tr>\n",
       "    <tr>\n",
       "      <th>25%</th>\n",
       "      <td>0.001310</td>\n",
       "      <td>0.024485</td>\n",
       "    </tr>\n",
       "    <tr>\n",
       "      <th>50%</th>\n",
       "      <td>0.001569</td>\n",
       "      <td>0.031174</td>\n",
       "    </tr>\n",
       "    <tr>\n",
       "      <th>75%</th>\n",
       "      <td>0.002000</td>\n",
       "      <td>0.049610</td>\n",
       "    </tr>\n",
       "    <tr>\n",
       "      <th>max</th>\n",
       "      <td>0.002467</td>\n",
       "      <td>0.098966</td>\n",
       "    </tr>\n",
       "  </tbody>\n",
       "</table>\n",
       "</div>"
      ],
      "text/plain": [
       "           polpc     crmrte\n",
       "count  34.000000  34.000000\n",
       "mean    0.001650   0.037508\n",
       "std     0.000477   0.019878\n",
       "min     0.000746   0.010870\n",
       "25%     0.001310   0.024485\n",
       "50%     0.001569   0.031174\n",
       "75%     0.002000   0.049610\n",
       "max     0.002467   0.098966"
      ]
     },
     "execution_count": 108,
     "metadata": {},
     "output_type": "execute_result"
    }
   ],
   "source": [
    "describe_central87 = df_central87.loc[:,['polpc','crmrte']].describe()\n",
    "describe_central87"
   ]
  },
  {
   "cell_type": "code",
   "execution_count": 109,
   "id": "0533a3ef-796d-4d26-a67f-5930b73963e8",
   "metadata": {
    "tags": []
   },
   "outputs": [
    {
     "data": {
      "text/html": [
       "<div>\n",
       "<style scoped>\n",
       "    .dataframe tbody tr th:only-of-type {\n",
       "        vertical-align: middle;\n",
       "    }\n",
       "\n",
       "    .dataframe tbody tr th {\n",
       "        vertical-align: top;\n",
       "    }\n",
       "\n",
       "    .dataframe thead th {\n",
       "        text-align: right;\n",
       "    }\n",
       "</style>\n",
       "<table border=\"1\" class=\"dataframe\">\n",
       "  <thead>\n",
       "    <tr style=\"text-align: right;\">\n",
       "      <th></th>\n",
       "      <th>polpc</th>\n",
       "      <th>crmrte</th>\n",
       "    </tr>\n",
       "  </thead>\n",
       "  <tbody>\n",
       "    <tr>\n",
       "      <th>count</th>\n",
       "      <td>34.000000</td>\n",
       "      <td>34.000000</td>\n",
       "    </tr>\n",
       "    <tr>\n",
       "      <th>mean</th>\n",
       "      <td>0.001829</td>\n",
       "      <td>0.037578</td>\n",
       "    </tr>\n",
       "    <tr>\n",
       "      <th>std</th>\n",
       "      <td>0.001981</td>\n",
       "      <td>0.019803</td>\n",
       "    </tr>\n",
       "    <tr>\n",
       "      <th>min</th>\n",
       "      <td>0.000659</td>\n",
       "      <td>0.012566</td>\n",
       "    </tr>\n",
       "    <tr>\n",
       "      <th>25%</th>\n",
       "      <td>0.001188</td>\n",
       "      <td>0.021299</td>\n",
       "    </tr>\n",
       "    <tr>\n",
       "      <th>50%</th>\n",
       "      <td>0.001524</td>\n",
       "      <td>0.031787</td>\n",
       "    </tr>\n",
       "    <tr>\n",
       "      <th>75%</th>\n",
       "      <td>0.001816</td>\n",
       "      <td>0.052799</td>\n",
       "    </tr>\n",
       "    <tr>\n",
       "      <th>max</th>\n",
       "      <td>0.012766</td>\n",
       "      <td>0.089035</td>\n",
       "    </tr>\n",
       "  </tbody>\n",
       "</table>\n",
       "</div>"
      ],
      "text/plain": [
       "           polpc     crmrte\n",
       "count  34.000000  34.000000\n",
       "mean    0.001829   0.037578\n",
       "std     0.001981   0.019803\n",
       "min     0.000659   0.012566\n",
       "25%     0.001188   0.021299\n",
       "50%     0.001524   0.031787\n",
       "75%     0.001816   0.052799\n",
       "max     0.012766   0.089035"
      ]
     },
     "execution_count": 109,
     "metadata": {},
     "output_type": "execute_result"
    }
   ],
   "source": [
    "describe_central82 = df_central82.loc[:,['polpc','crmrte']].describe()\n",
    "describe_central82"
   ]
  },
  {
   "cell_type": "code",
   "execution_count": 110,
   "id": "db079c50-a8ce-483b-a804-69579667c030",
   "metadata": {
    "tags": []
   },
   "outputs": [
    {
     "data": {
      "text/html": [
       "<div>\n",
       "<style scoped>\n",
       "    .dataframe tbody tr th:only-of-type {\n",
       "        vertical-align: middle;\n",
       "    }\n",
       "\n",
       "    .dataframe tbody tr th {\n",
       "        vertical-align: top;\n",
       "    }\n",
       "\n",
       "    .dataframe thead th {\n",
       "        text-align: right;\n",
       "    }\n",
       "</style>\n",
       "<table border=\"1\" class=\"dataframe\">\n",
       "  <thead>\n",
       "    <tr style=\"text-align: right;\">\n",
       "      <th></th>\n",
       "      <th>polpc</th>\n",
       "      <th>crmrte</th>\n",
       "    </tr>\n",
       "  </thead>\n",
       "  <tbody>\n",
       "    <tr>\n",
       "      <th>count</th>\n",
       "      <td>0.000000</td>\n",
       "      <td>0.000000</td>\n",
       "    </tr>\n",
       "    <tr>\n",
       "      <th>mean</th>\n",
       "      <td>-0.000179</td>\n",
       "      <td>-0.000070</td>\n",
       "    </tr>\n",
       "    <tr>\n",
       "      <th>std</th>\n",
       "      <td>-0.001504</td>\n",
       "      <td>0.000074</td>\n",
       "    </tr>\n",
       "    <tr>\n",
       "      <th>min</th>\n",
       "      <td>0.000087</td>\n",
       "      <td>-0.001695</td>\n",
       "    </tr>\n",
       "    <tr>\n",
       "      <th>25%</th>\n",
       "      <td>0.000122</td>\n",
       "      <td>0.003186</td>\n",
       "    </tr>\n",
       "    <tr>\n",
       "      <th>50%</th>\n",
       "      <td>0.000045</td>\n",
       "      <td>-0.000614</td>\n",
       "    </tr>\n",
       "    <tr>\n",
       "      <th>75%</th>\n",
       "      <td>0.000184</td>\n",
       "      <td>-0.003189</td>\n",
       "    </tr>\n",
       "    <tr>\n",
       "      <th>max</th>\n",
       "      <td>-0.010299</td>\n",
       "      <td>0.009931</td>\n",
       "    </tr>\n",
       "  </tbody>\n",
       "</table>\n",
       "</div>"
      ],
      "text/plain": [
       "          polpc    crmrte\n",
       "count  0.000000  0.000000\n",
       "mean  -0.000179 -0.000070\n",
       "std   -0.001504  0.000074\n",
       "min    0.000087 -0.001695\n",
       "25%    0.000122  0.003186\n",
       "50%    0.000045 -0.000614\n",
       "75%    0.000184 -0.003189\n",
       "max   -0.010299  0.009931"
      ]
     },
     "execution_count": 110,
     "metadata": {},
     "output_type": "execute_result"
    }
   ],
   "source": [
    "descdiff_central = describe_central87 - describe_central82\n",
    "descdiff_central"
   ]
  },
  {
   "cell_type": "code",
   "execution_count": 111,
   "id": "29abb3e4-d9e5-4bc3-8853-029f8bac11a1",
   "metadata": {
    "tags": []
   },
   "outputs": [],
   "source": [
    "central87_mean = describe_central87.loc['mean',:]\n",
    "central82_mean = describe_central82.loc['mean',:]"
   ]
  },
  {
   "cell_type": "code",
   "execution_count": 112,
   "id": "eb144ad6-8e8f-47dc-8b4a-b79199513d69",
   "metadata": {
    "tags": []
   },
   "outputs": [
    {
     "name": "stdout",
     "output_type": "stream",
     "text": [
      "Averages Diffrences West & Central (87-82):\n",
      "\n",
      "West 1987:\n",
      " polpc     0.001965\n",
      "crmrte    0.020561\n",
      "Name: mean, dtype: float64 \n",
      "\n",
      "West 1982:\n",
      " polpc     0.002042\n",
      "crmrte    0.020832\n",
      "Name: mean, dtype: float64 \n",
      "\n",
      "Central 1987:\n",
      " polpc     0.001650\n",
      "crmrte    0.037508\n",
      "Name: mean, dtype: float64 \n",
      "\n",
      "Central 1982:\n",
      " polpc     0.001829\n",
      "crmrte    0.037578\n",
      "Name: mean, dtype: float64\n"
     ]
    }
   ],
   "source": [
    "print(\"Averages Diffrences West & Central (87-82):\\n\")\n",
    "print(\"West 1987:\\n\",west87_mean,'\\n')\n",
    "print(\"West 1982:\\n\",west82_mean,'\\n')\n",
    "print(\"Central 1987:\\n\",central87_mean,'\\n')\n",
    "print(\"Central 1982:\\n\",central82_mean)"
   ]
  },
  {
   "cell_type": "code",
   "execution_count": 113,
   "id": "a8da6147-7a0e-4c3e-a8e9-59de7e0af35a",
   "metadata": {
    "tags": []
   },
   "outputs": [],
   "source": [
    "# As we can see, in the Central zone, there is a similar results to the West zone."
   ]
  },
  {
   "cell_type": "markdown",
   "id": "bdd0c8d9-18d9-4a77-a463-715935c588f4",
   "metadata": {},
   "source": [
    "# Q5"
   ]
  },
  {
   "cell_type": "code",
   "execution_count": 114,
   "id": "b12bea6b-8608-4bfb-9700-7b6f0c819814",
   "metadata": {
    "tags": []
   },
   "outputs": [],
   "source": [
    "df_county25 = df.loc[df.county == 25]\n",
    "df_county25_35 = df.loc[(df.county == 25) | (df.county == 35)]"
   ]
  },
  {
   "cell_type": "code",
   "execution_count": 115,
   "id": "9f4ea20a-381c-4493-a575-bac47663c90e",
   "metadata": {
    "tags": []
   },
   "outputs": [
    {
     "data": {
      "text/plain": [
       "Text(0.5, 1.0, 'County - 25')"
      ]
     },
     "execution_count": 115,
     "metadata": {},
     "output_type": "execute_result"
    },
    {
     "data": {
      "image/png": "[encoded data removed]",
      "text/plain": [
       "<Figure size 1020x600 with 1 Axes>"
      ]
     },
     "metadata": {},
     "output_type": "display_data"
    }
   ],
   "source": [
    "sns.lmplot( data = df_county25,\n",
    "           x = 'polpc',\n",
    "           y = 'crmrte',  \n",
    "           line_kws={'color': 'red'}, scatter_kws={'color': 'blue'},height=6, aspect=1.7)\n",
    "plt.title(\"County - 25\")"
   ]
  },
  {
   "cell_type": "code",
   "execution_count": 116,
   "id": "9c218715-973d-4974-95c3-00c310e00afd",
   "metadata": {
    "tags": []
   },
   "outputs": [
    {
     "data": {
      "text/plain": [
       "Text(0.5, 1.0, 'County - 25 & 35')"
      ]
     },
     "execution_count": 116,
     "metadata": {},
     "output_type": "execute_result"
    },
    {
     "data": {
      "image/png": "[encoded data removed]",
      "text/plain": [
       "<Figure size 487.75x600 with 1 Axes>"
      ]
     },
     "metadata": {},
     "output_type": "display_data"
    }
   ],
   "source": [
    "sns.lmplot( data = df_county25_35,\n",
    "           x = 'polpc',\n",
    "           y = 'crmrte',  \n",
    "           hue = 'county',\n",
    "           height = 6, aspect = 0.7)\n",
    "plt.title(\"County - 25 & 35\")"
   ]
  },
  {
   "cell_type": "code",
   "execution_count": 117,
   "id": "7a15d4d2-8530-45fb-9a56-71a1ecfd7b2b",
   "metadata": {
    "tags": []
   },
   "outputs": [],
   "source": [
    "# BASED on the graphs, we can see a negative relationship between the number of policman per capita and \n",
    "# the crime rate.\n",
    "# Yes, there is a diffrence. In questions 3, we see a positive relationship and now we see a negative relationship."
   ]
  },
  {
   "cell_type": "code",
   "execution_count": 118,
   "id": "1ab87cf6-f348-435f-8920-c02cacb844f5",
   "metadata": {
    "tags": []
   },
   "outputs": [
    {
     "data": {
      "text/html": [
       "<div>\n",
       "<style scoped>\n",
       "    .dataframe tbody tr th:only-of-type {\n",
       "        vertical-align: middle;\n",
       "    }\n",
       "\n",
       "    .dataframe tbody tr th {\n",
       "        vertical-align: top;\n",
       "    }\n",
       "\n",
       "    .dataframe thead th {\n",
       "        text-align: right;\n",
       "    }\n",
       "</style>\n",
       "<table border=\"1\" class=\"dataframe\">\n",
       "  <thead>\n",
       "    <tr style=\"text-align: right;\">\n",
       "      <th></th>\n",
       "      <th>polpc</th>\n",
       "      <th>crmrte</th>\n",
       "    </tr>\n",
       "  </thead>\n",
       "  <tbody>\n",
       "    <tr>\n",
       "      <th>count</th>\n",
       "      <td>7.000000</td>\n",
       "      <td>7.000000</td>\n",
       "    </tr>\n",
       "    <tr>\n",
       "      <th>mean</th>\n",
       "      <td>0.001801</td>\n",
       "      <td>0.042880</td>\n",
       "    </tr>\n",
       "    <tr>\n",
       "      <th>std</th>\n",
       "      <td>0.000085</td>\n",
       "      <td>0.003169</td>\n",
       "    </tr>\n",
       "    <tr>\n",
       "      <th>min</th>\n",
       "      <td>0.001722</td>\n",
       "      <td>0.040471</td>\n",
       "    </tr>\n",
       "    <tr>\n",
       "      <th>25%</th>\n",
       "      <td>0.001751</td>\n",
       "      <td>0.041032</td>\n",
       "    </tr>\n",
       "    <tr>\n",
       "      <th>50%</th>\n",
       "      <td>0.001757</td>\n",
       "      <td>0.041414</td>\n",
       "    </tr>\n",
       "    <tr>\n",
       "      <th>75%</th>\n",
       "      <td>0.001840</td>\n",
       "      <td>0.043628</td>\n",
       "    </tr>\n",
       "    <tr>\n",
       "      <th>max</th>\n",
       "      <td>0.001947</td>\n",
       "      <td>0.048955</td>\n",
       "    </tr>\n",
       "  </tbody>\n",
       "</table>\n",
       "</div>"
      ],
      "text/plain": [
       "          polpc    crmrte\n",
       "count  7.000000  7.000000\n",
       "mean   0.001801  0.042880\n",
       "std    0.000085  0.003169\n",
       "min    0.001722  0.040471\n",
       "25%    0.001751  0.041032\n",
       "50%    0.001757  0.041414\n",
       "75%    0.001840  0.043628\n",
       "max    0.001947  0.048955"
      ]
     },
     "execution_count": 118,
     "metadata": {},
     "output_type": "execute_result"
    }
   ],
   "source": [
    "df_county35 = df.loc[df.county == 35]\n",
    "df_county35.loc[:,['polpc','crmrte']].describe()"
   ]
  },
  {
   "cell_type": "code",
   "execution_count": 119,
   "id": "e8c80be0-6841-4c64-8413-d67df943b95b",
   "metadata": {
    "tags": []
   },
   "outputs": [
    {
     "data": {
      "text/html": [
       "<div>\n",
       "<style scoped>\n",
       "    .dataframe tbody tr th:only-of-type {\n",
       "        vertical-align: middle;\n",
       "    }\n",
       "\n",
       "    .dataframe tbody tr th {\n",
       "        vertical-align: top;\n",
       "    }\n",
       "\n",
       "    .dataframe thead th {\n",
       "        text-align: right;\n",
       "    }\n",
       "</style>\n",
       "<table border=\"1\" class=\"dataframe\">\n",
       "  <thead>\n",
       "    <tr style=\"text-align: right;\">\n",
       "      <th></th>\n",
       "      <th>polpc</th>\n",
       "      <th>crmrte</th>\n",
       "    </tr>\n",
       "  </thead>\n",
       "  <tbody>\n",
       "    <tr>\n",
       "      <th>count</th>\n",
       "      <td>7.000000</td>\n",
       "      <td>7.000000</td>\n",
       "    </tr>\n",
       "    <tr>\n",
       "      <th>mean</th>\n",
       "      <td>0.001702</td>\n",
       "      <td>0.032359</td>\n",
       "    </tr>\n",
       "    <tr>\n",
       "      <th>std</th>\n",
       "      <td>0.000139</td>\n",
       "      <td>0.003000</td>\n",
       "    </tr>\n",
       "    <tr>\n",
       "      <th>min</th>\n",
       "      <td>0.001585</td>\n",
       "      <td>0.029444</td>\n",
       "    </tr>\n",
       "    <tr>\n",
       "      <th>25%</th>\n",
       "      <td>0.001610</td>\n",
       "      <td>0.030381</td>\n",
       "    </tr>\n",
       "    <tr>\n",
       "      <th>50%</th>\n",
       "      <td>0.001653</td>\n",
       "      <td>0.031214</td>\n",
       "    </tr>\n",
       "    <tr>\n",
       "      <th>75%</th>\n",
       "      <td>0.001743</td>\n",
       "      <td>0.034001</td>\n",
       "    </tr>\n",
       "    <tr>\n",
       "      <th>max</th>\n",
       "      <td>0.001971</td>\n",
       "      <td>0.037092</td>\n",
       "    </tr>\n",
       "  </tbody>\n",
       "</table>\n",
       "</div>"
      ],
      "text/plain": [
       "          polpc    crmrte\n",
       "count  7.000000  7.000000\n",
       "mean   0.001702  0.032359\n",
       "std    0.000139  0.003000\n",
       "min    0.001585  0.029444\n",
       "25%    0.001610  0.030381\n",
       "50%    0.001653  0.031214\n",
       "75%    0.001743  0.034001\n",
       "max    0.001971  0.037092"
      ]
     },
     "execution_count": 119,
     "metadata": {},
     "output_type": "execute_result"
    }
   ],
   "source": [
    "df_county25.loc[:,['polpc','crmrte']].describe()"
   ]
  },
  {
   "cell_type": "code",
   "execution_count": 120,
   "id": "c182ceeb-fb41-424d-928e-c80d2ad259fc",
   "metadata": {
    "tags": []
   },
   "outputs": [],
   "source": [
    "# In terms of the regression lines, they are quite similar in their trend.\n",
    "# There is little difference in the averages and the initial value of the regression line.\n",
    "# As we mentioned earlier, as long as the regression takes into account the observations without reference to the years,\n",
    "# it is not possible to obtain sufficiently reliable information."
   ]
  },
  {
   "cell_type": "markdown",
   "id": "e2592d2e-accf-4bad-9b69-e7c45bc06d4a",
   "metadata": {},
   "source": [
    "# Q6"
   ]
  },
  {
   "cell_type": "code",
   "execution_count": 121,
   "id": "0d2e2d23-2e94-48cc-99e1-0dd367096caa",
   "metadata": {
    "tags": []
   },
   "outputs": [
    {
     "data": {
      "text/plain": [
       "(90, 51)"
      ]
     },
     "execution_count": 121,
     "metadata": {},
     "output_type": "execute_result"
    }
   ],
   "source": [
    "df82 = df.loc[df.year == 82]\n",
    "df82.shape"
   ]
  },
  {
   "cell_type": "code",
   "execution_count": 122,
   "id": "2a839b38-64ce-47ca-b01b-725b9b0a3d0d",
   "metadata": {
    "tags": []
   },
   "outputs": [
    {
     "name": "stdout",
     "output_type": "stream",
     "text": [
      "                            OLS Regression Results                            \n",
      "==============================================================================\n",
      "Dep. Variable:                 crmrte   R-squared:                       0.008\n",
      "Model:                            OLS   Adj. R-squared:                 -0.004\n",
      "Method:                 Least Squares   F-statistic:                    0.6884\n",
      "Date:                Thu, 27 Jun 2024   Prob (F-statistic):              0.409\n",
      "Time:                        16:24:05   Log-Likelihood:                 239.16\n",
      "No. Observations:                  90   AIC:                            -474.3\n",
      "Df Residuals:                      88   BIC:                            -469.3\n",
      "Df Model:                           1                                         \n",
      "Covariance Type:            nonrobust                                         \n",
      "==============================================================================\n",
      "                 coef    std err          t      P>|t|      [0.025      0.975]\n",
      "------------------------------------------------------------------------------\n",
      "Intercept      0.0341      0.002     13.647      0.000       0.029       0.039\n",
      "polpc         -0.8413      1.014     -0.830      0.409      -2.857       1.174\n",
      "==============================================================================\n",
      "Omnibus:                       17.424   Durbin-Watson:                   1.922\n",
      "Prob(Omnibus):                  0.000   Jarque-Bera (JB):               20.353\n",
      "Skew:                           1.090   Prob(JB):                     3.81e-05\n",
      "Kurtosis:                       3.820   Cond. No.                         561.\n",
      "==============================================================================\n",
      "\n",
      "Notes:\n",
      "[1] Standard Errors assume that the covariance matrix of the errors is correctly specified.\n"
     ]
    }
   ],
   "source": [
    "#1.\n",
    "OLS_lev_lev = ols(formula='crmrte~polpc',data=df82).fit()\n",
    "print(OLS_lev_lev.summary())"
   ]
  },
  {
   "cell_type": "code",
   "execution_count": 123,
   "id": "f2c3286d-9fac-4e9f-9c89-895ad3a809b3",
   "metadata": {
    "tags": []
   },
   "outputs": [],
   "source": [
    "# Alpha1 means:\n",
    "# When the number of police officers per capita increases by one unit, \n",
    "# the crime rate decreases by 0.84 percentage points.\n",
    "# Alpha1 is NOT statistically significant. p>0.05\n",
    "# The direction of the effect is indeed as the researcher expected."
   ]
  },
  {
   "cell_type": "code",
   "execution_count": 124,
   "id": "f77d8826-75a6-41a0-8a70-151845aa84e7",
   "metadata": {
    "tags": []
   },
   "outputs": [
    {
     "data": {
      "text/plain": [
       "-0.8297013963834337"
      ]
     },
     "execution_count": 124,
     "metadata": {},
     "output_type": "execute_result"
    }
   ],
   "source": [
    "# H0: a1 = 0\n",
    "# H1: a1 !=0\n",
    "\n",
    "(OLS_lev_lev.params.polpc - 0)/OLS_lev_lev.bse.polpc\n",
    "# a1 is not statistically significant."
   ]
  },
  {
   "cell_type": "code",
   "execution_count": 125,
   "id": "f61204f6-2c5f-477a-bd19-d08ee30508e5",
   "metadata": {
    "tags": []
   },
   "outputs": [
    {
     "name": "stdout",
     "output_type": "stream",
     "text": [
      "                            OLS Regression Results                            \n",
      "==============================================================================\n",
      "Dep. Variable:                lcrmrte   R-squared:                       0.001\n",
      "Model:                            OLS   Adj. R-squared:                 -0.010\n",
      "Method:                 Least Squares   F-statistic:                    0.1114\n",
      "Date:                Thu, 27 Jun 2024   Prob (F-statistic):              0.739\n",
      "Time:                        16:24:05   Log-Likelihood:                -72.465\n",
      "No. Observations:                  90   AIC:                             148.9\n",
      "Df Residuals:                      88   BIC:                             153.9\n",
      "Df Model:                           1                                         \n",
      "Covariance Type:            nonrobust                                         \n",
      "==============================================================================\n",
      "                 coef    std err          t      P>|t|      [0.025      0.975]\n",
      "------------------------------------------------------------------------------\n",
      "Intercept     -3.3004      0.776     -4.255      0.000      -4.842      -1.759\n",
      "lpolpc         0.0393      0.118      0.334      0.739      -0.195       0.274\n",
      "==============================================================================\n",
      "Omnibus:                       10.490   Durbin-Watson:                   1.649\n",
      "Prob(Omnibus):                  0.005   Jarque-Bera (JB):               12.944\n",
      "Skew:                          -0.580   Prob(JB):                      0.00155\n",
      "Kurtosis:                       4.451   Cond. No.                         90.4\n",
      "==============================================================================\n",
      "\n",
      "Notes:\n",
      "[1] Standard Errors assume that the covariance matrix of the errors is correctly specified.\n"
     ]
    }
   ],
   "source": [
    "#2.\n",
    "OLS_log_log = ols(formula='lcrmrte~lpolpc',data=df82).fit()\n",
    "print(OLS_log_log.summary())"
   ]
  },
  {
   "cell_type": "code",
   "execution_count": 126,
   "id": "902ed97f-755f-45f7-8f74-f5003930ffac",
   "metadata": {
    "tags": []
   },
   "outputs": [],
   "source": [
    "# Meaning of beta1:\n",
    "# A percentage increase in the number of police officers per capita will increase the crime rate by 0.0393 percent.\n",
    "# In other words, beta1 measures the elasticity between the number of police officers per capita and the crime rate.\n",
    "# Beta1 is NOT statistically significant. p>0.05.\n",
    "# The direction of the effect is NOT as the researcher expected."
   ]
  },
  {
   "cell_type": "code",
   "execution_count": 127,
   "id": "047cc989-d66d-4300-b5fa-fe929e75f94a",
   "metadata": {
    "tags": []
   },
   "outputs": [
    {
     "data": {
      "text/plain": [
       "0.3337137846891346"
      ]
     },
     "execution_count": 127,
     "metadata": {},
     "output_type": "execute_result"
    }
   ],
   "source": [
    "# H0: b1 = 0\n",
    "# H1: b1 !=0\n",
    "\n",
    "(OLS_log_log.params.lpolpc - 0)/OLS_log_log.bse.lpolpc\n",
    "# b1 is not statistically significant."
   ]
  },
  {
   "cell_type": "markdown",
   "id": "1c60bd80-6e77-420a-bac2-43f8bb6f3d5f",
   "metadata": {},
   "source": [
    "# Q7"
   ]
  },
  {
   "cell_type": "code",
   "execution_count": 128,
   "id": "cffc6ee2-869e-442f-b7c8-deb07ed70fee",
   "metadata": {
    "tags": []
   },
   "outputs": [
    {
     "name": "stdout",
     "output_type": "stream",
     "text": [
      "                            OLS Regression Results                            \n",
      "==============================================================================\n",
      "Dep. Variable:                lcrmrte   R-squared:                       0.030\n",
      "Model:                            OLS   Adj. R-squared:                  0.019\n",
      "Method:                 Least Squares   F-statistic:                     2.727\n",
      "Date:                Thu, 27 Jun 2024   Prob (F-statistic):            0.00858\n",
      "Time:                        16:24:05   Log-Likelihood:                -532.87\n",
      "No. Observations:                 630   AIC:                             1082.\n",
      "Df Residuals:                     622   BIC:                             1117.\n",
      "Df Model:                           7                                         \n",
      "Covariance Type:            nonrobust                                         \n",
      "==============================================================================\n",
      "                 coef    std err          t      P>|t|      [0.025      0.975]\n",
      "------------------------------------------------------------------------------\n",
      "Intercept     -2.5275      0.288     -8.782      0.000      -3.093      -1.962\n",
      "lpolpc         0.1570      0.043      3.645      0.000       0.072       0.242\n",
      "d82           -0.0012      0.085     -0.014      0.989      -0.167       0.165\n",
      "d83           -0.0865      0.085     -1.022      0.307      -0.253       0.080\n",
      "d84           -0.1390      0.085     -1.643      0.101      -0.305       0.027\n",
      "d85           -0.1374      0.085     -1.623      0.105      -0.304       0.029\n",
      "d86           -0.0742      0.085     -0.877      0.381      -0.240       0.092\n",
      "d87           -0.0002      0.085     -0.002      0.998      -0.166       0.166\n",
      "==============================================================================\n",
      "Omnibus:                      108.384   Durbin-Watson:                   0.307\n",
      "Prob(Omnibus):                  0.000   Jarque-Bera (JB):              299.437\n",
      "Skew:                          -0.854   Prob(JB):                     9.51e-66\n",
      "Kurtosis:                       5.914   Cond. No.                         85.8\n",
      "==============================================================================\n",
      "\n",
      "Notes:\n",
      "[1] Standard Errors assume that the covariance matrix of the errors is correctly specified.\n"
     ]
    }
   ],
   "source": [
    "OLS_LOG7 = ols(formula='lcrmrte~lpolpc+d82+d83+d84+d85+d86+d87',data=df).fit()\n",
    "print(OLS_LOG7.summary())"
   ]
  },
  {
   "cell_type": "code",
   "execution_count": 129,
   "id": "a4570e74-83d1-4b06-b3c3-34c4c3708fe7",
   "metadata": {
    "tags": []
   },
   "outputs": [],
   "source": [
    "# Tau is the addition to the initial value in a certain year which is not 1981.\n",
    "# Its effect changes the intercept in the regression."
   ]
  },
  {
   "cell_type": "code",
   "execution_count": 130,
   "id": "80451c0a-7f68-408d-b4ff-398a30b47be4",
   "metadata": {
    "tags": []
   },
   "outputs": [
    {
     "name": "stdout",
     "output_type": "stream",
     "text": [
      "b1: 0.0393 \n",
      "\n",
      "m1: 0.157\n"
     ]
    }
   ],
   "source": [
    "b1 = OLS_log_log.params.lpolpc\n",
    "m1 = OLS_LOG7.params.lpolpc\n",
    "print(\"b1:\",b1.round(4),'\\n')\n",
    "print(\"m1:\",m1.round(4))"
   ]
  },
  {
   "cell_type": "code",
   "execution_count": 131,
   "id": "debec814-2333-4db5-8b8e-95e5106f164f",
   "metadata": {
    "tags": []
   },
   "outputs": [],
   "source": [
    "# We can see a big difference between the two."
   ]
  },
  {
   "cell_type": "markdown",
   "id": "91b30306-ac3c-4109-98df-4f17d74d9679",
   "metadata": {},
   "source": [
    "# Q8"
   ]
  },
  {
   "cell_type": "code",
   "execution_count": 132,
   "id": "31b5c582-a9c3-4107-a0db-e1e99a422700",
   "metadata": {
    "tags": []
   },
   "outputs": [],
   "source": [
    "df.loc[df['year'] != 81, 'clcrmrte'] = df['lcrmrte'] - df['lcrmrte'].shift(1)"
   ]
  },
  {
   "cell_type": "code",
   "execution_count": 133,
   "id": "75c1ab6c-e21c-4a9a-a7b4-bcca8b9963a6",
   "metadata": {
    "tags": []
   },
   "outputs": [],
   "source": [
    "df.loc[df['year'] == 81, 'clcrmrte'] = np.nan"
   ]
  },
  {
   "cell_type": "code",
   "execution_count": 134,
   "id": "3df6296c-be21-4e0d-8f36-25107616164c",
   "metadata": {
    "tags": []
   },
   "outputs": [
    {
     "data": {
      "text/plain": [
       "0          NaN\n",
       "1    -0.039377\n",
       "2    -0.235315\n",
       "3     0.136179\n",
       "4     0.051825\n",
       "5    -0.051062\n",
       "6     0.024198\n",
       "7          NaN\n",
       "8     0.151060\n",
       "9    -0.229911\n",
       "10   -0.103323\n",
       "11   -0.126840\n",
       "12    0.077025\n",
       "13    0.159979\n",
       "14         NaN\n",
       "15    0.277457\n",
       "16    0.038486\n",
       "17    0.076888\n",
       "18   -0.103083\n",
       "19    0.132199\n",
       "Name: clcrmrte, dtype: float64"
      ]
     },
     "execution_count": 134,
     "metadata": {},
     "output_type": "execute_result"
    }
   ],
   "source": [
    "df.clcrmrte.head(20)"
   ]
  },
  {
   "cell_type": "markdown",
   "id": "a3c92db1-dc41-43e5-8193-dc022a523c03",
   "metadata": {},
   "source": [
    "# Q9"
   ]
  },
  {
   "cell_type": "code",
   "execution_count": 135,
   "id": "8ae74467-adb2-4311-8bf0-e243d38c4890",
   "metadata": {
    "tags": []
   },
   "outputs": [],
   "source": [
    "df.loc[df['year'] != 81, 'clpolpc'] = df['lpolpc'] - df['lpolpc'].shift(1)"
   ]
  },
  {
   "cell_type": "code",
   "execution_count": 136,
   "id": "75b46bc5-c0b2-4da8-9eb5-d4fd8df1c4cd",
   "metadata": {
    "tags": []
   },
   "outputs": [],
   "source": [
    "df.loc[df['year'] == 81, 'clpolpc'] = np.nan"
   ]
  },
  {
   "cell_type": "code",
   "execution_count": 137,
   "id": "c46d12b0-a687-4932-ad35-91d407769cfb",
   "metadata": {
    "tags": []
   },
   "outputs": [
    {
     "data": {
      "text/plain": [
       "0          NaN\n",
       "1    -0.011364\n",
       "2     0.038413\n",
       "3     0.026930\n",
       "4     0.020199\n",
       "5    -0.015258\n",
       "6    -0.036189\n",
       "7          NaN\n",
       "8     0.170985\n",
       "9    -0.067522\n",
       "10   -0.078554\n",
       "11    0.051906\n",
       "12    0.052944\n",
       "13    0.098061\n",
       "14         NaN\n",
       "15    0.501592\n",
       "16   -0.010292\n",
       "17   -0.005351\n",
       "18    0.105000\n",
       "19   -0.266937\n",
       "Name: clpolpc, dtype: float64"
      ]
     },
     "execution_count": 137,
     "metadata": {},
     "output_type": "execute_result"
    }
   ],
   "source": [
    "df.clpolpc.head(20)"
   ]
  },
  {
   "cell_type": "markdown",
   "id": "47e328c4-0460-4fa2-9f47-ced6c46d5dae",
   "metadata": {},
   "source": [
    "# Q10"
   ]
  },
  {
   "cell_type": "code",
   "execution_count": 138,
   "id": "87cee811-96c8-4380-9c65-7498400ab47f",
   "metadata": {
    "tags": []
   },
   "outputs": [
    {
     "name": "stdout",
     "output_type": "stream",
     "text": [
      "                            OLS Regression Results                            \n",
      "==============================================================================\n",
      "Dep. Variable:               clcrmrte   R-squared:                       0.127\n",
      "Model:                            OLS   Adj. R-squared:                  0.126\n",
      "Method:                 Least Squares   F-statistic:                     78.55\n",
      "Date:                Thu, 27 Jun 2024   Prob (F-statistic):           1.14e-17\n",
      "Time:                        16:24:05   Log-Likelihood:                 132.31\n",
      "No. Observations:                 540   AIC:                            -260.6\n",
      "Df Residuals:                     538   BIC:                            -252.0\n",
      "Df Model:                           1                                         \n",
      "Covariance Type:            nonrobust                                         \n",
      "==============================================================================\n",
      "                 coef    std err          t      P>|t|      [0.025      0.975]\n",
      "------------------------------------------------------------------------------\n",
      "Intercept     -0.0015      0.008     -0.179      0.858      -0.018       0.015\n",
      "clpolpc        0.2680      0.030      8.863      0.000       0.209       0.327\n",
      "==============================================================================\n",
      "Omnibus:                       79.144   Durbin-Watson:                   2.239\n",
      "Prob(Omnibus):                  0.000   Jarque-Bera (JB):              880.254\n",
      "Skew:                          -0.015   Prob(JB):                    7.16e-192\n",
      "Kurtosis:                       9.255   Cond. No.                         3.70\n",
      "==============================================================================\n",
      "\n",
      "Notes:\n",
      "[1] Standard Errors assume that the covariance matrix of the errors is correctly specified.\n"
     ]
    }
   ],
   "source": [
    "OLS_LOG10 = ols(formula='clcrmrte~clpolpc',data=df).fit()\n",
    "print(OLS_LOG10.summary())"
   ]
  },
  {
   "cell_type": "code",
   "execution_count": 139,
   "id": "dca16681-b12a-438f-8e6d-7c78295f1986",
   "metadata": {
    "tags": []
   },
   "outputs": [],
   "source": [
    "# Delta0:\n",
    "# Represents the estimated average change in clcrmrte when clpolpc is zero.\n",
    "# it represents the expected change in the log crime rate at time t\n",
    "# when there is no change in log police per capita (clpolpc=0).\n",
    "\n",
    "# Delta1:\n",
    "# Indicates the estimated effect of a one-unit change in clpolpc on clcrmrte.\n",
    "# Specifically, it shows how much the log crime rate changes for a one-unit change in log police per capita."
   ]
  },
  {
   "cell_type": "markdown",
   "id": "c1e483c7-317b-4656-ba43-cb3d105729e6",
   "metadata": {},
   "source": [
    "# Q11"
   ]
  },
  {
   "cell_type": "code",
   "execution_count": 140,
   "id": "6e3c5bb6-583d-498f-8a67-4375db9a11f0",
   "metadata": {
    "tags": []
   },
   "outputs": [
    {
     "data": {
      "text/plain": [
       "(630, 141)"
      ]
     },
     "execution_count": 140,
     "metadata": {},
     "output_type": "execute_result"
    }
   ],
   "source": [
    "df_county_dum = pd.get_dummies(df, columns=['county'], drop_first=True)\n",
    "df_county_dum.shape"
   ]
  },
  {
   "cell_type": "code",
   "execution_count": 141,
   "id": "f63c5309-6370-4e1e-b736-963f9b2fb903",
   "metadata": {
    "tags": []
   },
   "outputs": [
    {
     "name": "stdout",
     "output_type": "stream",
     "text": [
      "<class 'pandas.core.frame.DataFrame'>\n",
      "RangeIndex: 630 entries, 0 to 629\n",
      "Data columns (total 89 columns):\n",
      " #   Column      Non-Null Count  Dtype\n",
      "---  ------      --------------  -----\n",
      " 0   county_3    630 non-null    uint8\n",
      " 1   county_5    630 non-null    uint8\n",
      " 2   county_7    630 non-null    uint8\n",
      " 3   county_9    630 non-null    uint8\n",
      " 4   county_11   630 non-null    uint8\n",
      " 5   county_13   630 non-null    uint8\n",
      " 6   county_15   630 non-null    uint8\n",
      " 7   county_17   630 non-null    uint8\n",
      " 8   county_19   630 non-null    uint8\n",
      " 9   county_21   630 non-null    uint8\n",
      " 10  county_23   630 non-null    uint8\n",
      " 11  county_25   630 non-null    uint8\n",
      " 12  county_27   630 non-null    uint8\n",
      " 13  county_33   630 non-null    uint8\n",
      " 14  county_35   630 non-null    uint8\n",
      " 15  county_37   630 non-null    uint8\n",
      " 16  county_39   630 non-null    uint8\n",
      " 17  county_41   630 non-null    uint8\n",
      " 18  county_45   630 non-null    uint8\n",
      " 19  county_47   630 non-null    uint8\n",
      " 20  county_49   630 non-null    uint8\n",
      " 21  county_51   630 non-null    uint8\n",
      " 22  county_53   630 non-null    uint8\n",
      " 23  county_55   630 non-null    uint8\n",
      " 24  county_57   630 non-null    uint8\n",
      " 25  county_59   630 non-null    uint8\n",
      " 26  county_61   630 non-null    uint8\n",
      " 27  county_63   630 non-null    uint8\n",
      " 28  county_65   630 non-null    uint8\n",
      " 29  county_67   630 non-null    uint8\n",
      " 30  county_69   630 non-null    uint8\n",
      " 31  county_71   630 non-null    uint8\n",
      " 32  county_77   630 non-null    uint8\n",
      " 33  county_79   630 non-null    uint8\n",
      " 34  county_81   630 non-null    uint8\n",
      " 35  county_83   630 non-null    uint8\n",
      " 36  county_85   630 non-null    uint8\n",
      " 37  county_87   630 non-null    uint8\n",
      " 38  county_89   630 non-null    uint8\n",
      " 39  county_91   630 non-null    uint8\n",
      " 40  county_93   630 non-null    uint8\n",
      " 41  county_97   630 non-null    uint8\n",
      " 42  county_99   630 non-null    uint8\n",
      " 43  county_101  630 non-null    uint8\n",
      " 44  county_105  630 non-null    uint8\n",
      " 45  county_107  630 non-null    uint8\n",
      " 46  county_109  630 non-null    uint8\n",
      " 47  county_111  630 non-null    uint8\n",
      " 48  county_113  630 non-null    uint8\n",
      " 49  county_115  630 non-null    uint8\n",
      " 50  county_117  630 non-null    uint8\n",
      " 51  county_119  630 non-null    uint8\n",
      " 52  county_123  630 non-null    uint8\n",
      " 53  county_125  630 non-null    uint8\n",
      " 54  county_127  630 non-null    uint8\n",
      " 55  county_129  630 non-null    uint8\n",
      " 56  county_131  630 non-null    uint8\n",
      " 57  county_133  630 non-null    uint8\n",
      " 58  county_135  630 non-null    uint8\n",
      " 59  county_137  630 non-null    uint8\n",
      " 60  county_139  630 non-null    uint8\n",
      " 61  county_141  630 non-null    uint8\n",
      " 62  county_143  630 non-null    uint8\n",
      " 63  county_145  630 non-null    uint8\n",
      " 64  county_147  630 non-null    uint8\n",
      " 65  county_149  630 non-null    uint8\n",
      " 66  county_151  630 non-null    uint8\n",
      " 67  county_153  630 non-null    uint8\n",
      " 68  county_155  630 non-null    uint8\n",
      " 69  county_157  630 non-null    uint8\n",
      " 70  county_159  630 non-null    uint8\n",
      " 71  county_161  630 non-null    uint8\n",
      " 72  county_163  630 non-null    uint8\n",
      " 73  county_165  630 non-null    uint8\n",
      " 74  county_167  630 non-null    uint8\n",
      " 75  county_169  630 non-null    uint8\n",
      " 76  county_171  630 non-null    uint8\n",
      " 77  county_173  630 non-null    uint8\n",
      " 78  county_175  630 non-null    uint8\n",
      " 79  county_179  630 non-null    uint8\n",
      " 80  county_181  630 non-null    uint8\n",
      " 81  county_183  630 non-null    uint8\n",
      " 82  county_185  630 non-null    uint8\n",
      " 83  county_187  630 non-null    uint8\n",
      " 84  county_189  630 non-null    uint8\n",
      " 85  county_191  630 non-null    uint8\n",
      " 86  county_193  630 non-null    uint8\n",
      " 87  county_195  630 non-null    uint8\n",
      " 88  county_197  630 non-null    uint8\n",
      "dtypes: uint8(89)\n",
      "memory usage: 54.9 KB\n"
     ]
    }
   ],
   "source": [
    "Dcounty = df_county_dum.iloc[:,52:]\n",
    "Dcounty.info()"
   ]
  },
  {
   "cell_type": "code",
   "execution_count": 142,
   "id": "44674019-3f16-47ec-8c28-c7625a7a18ab",
   "metadata": {
    "tags": []
   },
   "outputs": [
    {
     "name": "stdout",
     "output_type": "stream",
     "text": [
      "                            OLS Regression Results                            \n",
      "==============================================================================\n",
      "Dep. Variable:                lcrmrte   R-squared:                       0.932\n",
      "Model:                            OLS   Adj. R-squared:                  0.920\n",
      "Method:                 Least Squares   F-statistic:                     76.58\n",
      "Date:                Thu, 27 Jun 2024   Prob (F-statistic):          1.22e-257\n",
      "Time:                        16:24:05   Log-Likelihood:                 306.27\n",
      "No. Observations:                 630   AIC:                            -418.5\n",
      "Df Residuals:                     533   BIC:                             12.69\n",
      "Df Model:                          96                                         \n",
      "Covariance Type:            nonrobust                                         \n",
      "===============================================================================\n",
      "                  coef    std err          t      P>|t|      [0.025      0.975]\n",
      "-------------------------------------------------------------------------------\n",
      "Intercept      -1.7641      0.178     -9.917      0.000      -2.114      -1.415\n",
      "lpolpc          0.2390      0.026      9.110      0.000       0.187       0.290\n",
      "d82             0.0007      0.024      0.030      0.976      -0.047       0.048\n",
      "d83            -0.0904      0.024     -3.743      0.000      -0.138      -0.043\n",
      "d84            -0.1450      0.024     -5.992      0.000      -0.192      -0.097\n",
      "d85            -0.1444      0.024     -5.963      0.000      -0.192      -0.097\n",
      "d86            -0.0789      0.024     -3.265      0.001      -0.126      -0.031\n",
      "d87            -0.0065      0.024     -0.270      0.787      -0.054       0.041\n",
      "Dcounty[0]     -0.6337      0.091     -6.995      0.000      -0.812      -0.456\n",
      "Dcounty[1]     -0.9517      0.087    -10.922      0.000      -1.123      -0.781\n",
      "Dcounty[2]     -0.3884      0.087     -4.480      0.000      -0.559      -0.218\n",
      "Dcounty[3]     -0.9800      0.089    -11.030      0.000      -1.155      -0.805\n",
      "Dcounty[4]     -0.7795      0.087     -9.000      0.000      -0.950      -0.609\n",
      "Dcounty[5]     -0.0146      0.087     -0.168      0.867      -0.185       0.156\n",
      "Dcounty[6]     -0.5483      0.088     -6.206      0.000      -0.722      -0.375\n",
      "Dcounty[7]     -0.4676      0.087     -5.382      0.000      -0.638      -0.297\n",
      "Dcounty[8]     -0.7535      0.086     -8.713      0.000      -0.923      -0.584\n",
      "Dcounty[9]      0.1036      0.086      1.198      0.231      -0.066       0.273\n",
      "Dcounty[10]    -0.1612      0.087     -1.858      0.064      -0.332       0.009\n",
      "Dcounty[11]    -0.0798      0.087     -0.922      0.357      -0.250       0.090\n",
      "Dcounty[12]     0.0309      0.087      0.356      0.722      -0.140       0.201\n",
      "Dcounty[13]    -0.5736      0.090     -6.350      0.000      -0.751      -0.396\n",
      "Dcounty[14]     0.1891      0.086      2.187      0.029       0.019       0.359\n",
      "Dcounty[15]    -0.4125      0.087     -4.731      0.000      -0.584      -0.241\n",
      "Dcounty[16]    -0.7860      0.088     -8.980      0.000      -0.958      -0.614\n",
      "Dcounty[17]    -0.4280      0.087     -4.948      0.000      -0.598      -0.258\n",
      "Dcounty[18]     0.0892      0.087      1.022      0.307      -0.082       0.261\n",
      "Dcounty[19]    -0.1511      0.086     -1.747      0.081      -0.321       0.019\n",
      "Dcounty[20]     0.0183      0.087      0.211      0.833      -0.152       0.189\n",
      "Dcounty[21]     0.6785      0.087      7.834      0.000       0.508       0.849\n",
      "Dcounty[22]    -0.5790      0.088     -6.556      0.000      -0.752      -0.405\n",
      "Dcounty[23]     0.3115      0.088      3.536      0.000       0.138       0.484\n",
      "Dcounty[24]    -0.1197      0.087     -1.378      0.169      -0.290       0.051\n",
      "Dcounty[25]    -0.5629      0.088     -6.414      0.000      -0.735      -0.391\n",
      "Dcounty[26]    -0.4852      0.087     -5.590      0.000      -0.656      -0.315\n",
      "Dcounty[27]     0.6671      0.087      7.687      0.000       0.497       0.838\n",
      "Dcounty[28]     0.5917      0.088      6.719      0.000       0.419       0.765\n",
      "Dcounty[29]     0.4566      0.086      5.279      0.000       0.287       0.627\n",
      "Dcounty[30]    -0.7793      0.088     -8.887      0.000      -0.952      -0.607\n",
      "Dcounty[31]     0.4881      0.086      5.643      0.000       0.318       0.658\n",
      "Dcounty[32]     0.0087      0.087      0.100      0.920      -0.162       0.179\n",
      "Dcounty[33]    -0.8289      0.087     -9.498      0.000      -1.000      -0.657\n",
      "Dcounty[34]     0.4071      0.087      4.698      0.000       0.237       0.577\n",
      "Dcounty[35]    -0.1578      0.087     -1.822      0.069      -0.328       0.012\n",
      "Dcounty[36]     0.2037      0.087      2.348      0.019       0.033       0.374\n",
      "Dcounty[37]    -0.1998      0.087     -2.307      0.021      -0.370      -0.030\n",
      "Dcounty[38]    -0.1671      0.087     -1.912      0.056      -0.339       0.005\n",
      "Dcounty[39]    -0.0727      0.087     -0.838      0.402      -0.243       0.098\n",
      "Dcounty[40]     0.0158      0.087      0.182      0.855      -0.155       0.186\n",
      "Dcounty[41]     0.1050      0.087      1.212      0.226      -0.065       0.275\n",
      "Dcounty[42]    -0.7054      0.087     -8.141      0.000      -0.876      -0.535\n",
      "Dcounty[43]     0.0056      0.087      0.064      0.949      -0.165       0.176\n",
      "Dcounty[44]     0.3299      0.086      3.815      0.000       0.160       0.500\n",
      "Dcounty[45]     0.3007      0.087      3.474      0.001       0.131       0.471\n",
      "Dcounty[46]    -0.5238      0.088     -5.985      0.000      -0.696      -0.352\n",
      "Dcounty[47]    -0.5913      0.088     -6.689      0.000      -0.765      -0.418\n",
      "Dcounty[48]    -1.0888      0.087    -12.577      0.000      -1.259      -0.919\n",
      "Dcounty[49]    -2.7442      0.100    -27.367      0.000      -2.941      -2.547\n",
      "Dcounty[50]    -0.4115      0.091     -4.522      0.000      -0.590      -0.233\n",
      "Dcounty[51]     0.8990      0.086     10.395      0.000       0.729       1.069\n",
      "Dcounty[52]    -0.0483      0.087     -0.558      0.577      -0.218       0.122\n",
      "Dcounty[53]    -0.2991      0.086     -3.458      0.001      -0.469      -0.129\n",
      "Dcounty[54]     0.1977      0.088      2.242      0.025       0.024       0.371\n",
      "Dcounty[55]     0.6796      0.087      7.841      0.000       0.509       0.850\n",
      "Dcounty[56]    -0.5830      0.088     -6.608      0.000      -0.756      -0.410\n",
      "Dcounty[57]     0.3152      0.087      3.628      0.000       0.145       0.486\n",
      "Dcounty[58]     0.3887      0.087      4.487      0.000       0.219       0.559\n",
      "Dcounty[59]    -0.7080      0.091     -7.778      0.000      -0.887      -0.529\n",
      "Dcounty[60]    -0.1671      0.087     -1.928      0.054      -0.337       0.003\n",
      "Dcounty[61]     0.1659      0.092      1.795      0.073      -0.016       0.347\n",
      "Dcounty[62]    -0.3358      0.089     -3.786      0.000      -0.510      -0.162\n",
      "Dcounty[63]    -0.1533      0.087     -1.763      0.078      -0.324       0.017\n",
      "Dcounty[64]     0.3724      0.086      4.305      0.000       0.202       0.542\n",
      "Dcounty[65]    -0.8260      0.086     -9.552      0.000      -0.996      -0.656\n",
      "Dcounty[66]    -0.2619      0.087     -2.995      0.003      -0.434      -0.090\n",
      "Dcounty[67]    -0.0667      0.087     -0.768      0.443      -0.237       0.104\n",
      "Dcounty[68]    -0.0227      0.087     -0.261      0.794      -0.193       0.148\n",
      "Dcounty[69]    -0.1860      0.086     -2.151      0.032      -0.356      -0.016\n",
      "Dcounty[70]    -0.1016      0.087     -1.174      0.241      -0.272       0.068\n",
      "Dcounty[71]    -0.4865      0.087     -5.595      0.000      -0.657      -0.316\n",
      "Dcounty[72]    -0.4538      0.087     -5.221      0.000      -0.625      -0.283\n",
      "Dcounty[73]     0.2320      0.087      2.681      0.008       0.062       0.402\n",
      "Dcounty[74]    -0.4192      0.087     -4.840      0.000      -0.589      -0.249\n",
      "Dcounty[75]    -0.8789      0.089     -9.907      0.000      -1.053      -0.705\n",
      "Dcounty[76]    -0.4261      0.087     -4.911      0.000      -0.597      -0.256\n",
      "Dcounty[77]    -1.3986      0.089    -15.664      0.000      -1.574      -1.223\n",
      "Dcounty[78]    -0.6897      0.086     -7.974      0.000      -0.860      -0.520\n",
      "Dcounty[79]    -0.1977      0.087     -2.282      0.023      -0.368      -0.027\n",
      "Dcounty[80]     0.5332      0.087      6.160      0.000       0.363       0.703\n",
      "Dcounty[81]     0.3872      0.086      4.476      0.000       0.217       0.557\n",
      "Dcounty[82]    -1.5597      0.092    -16.934      0.000      -1.741      -1.379\n",
      "Dcounty[83]    -0.1353      0.087     -1.546      0.123      -0.307       0.037\n",
      "Dcounty[84]    -0.2363      0.087     -2.732      0.007      -0.406      -0.066\n",
      "Dcounty[85]     0.1487      0.087      1.705      0.089      -0.023       0.320\n",
      "Dcounty[86]    -0.4212      0.088     -4.797      0.000      -0.594      -0.249\n",
      "Dcounty[87]     0.0977      0.087      1.123      0.262      -0.073       0.269\n",
      "Dcounty[88]    -0.7317      0.088     -8.332      0.000      -0.904      -0.559\n",
      "==============================================================================\n",
      "Omnibus:                       70.446   Durbin-Watson:                   1.562\n",
      "Prob(Omnibus):                  0.000   Jarque-Bera (JB):              335.766\n",
      "Skew:                          -0.362   Prob(JB):                     1.23e-73\n",
      "Kurtosis:                       6.502   Cond. No.                         598.\n",
      "==============================================================================\n",
      "\n",
      "Notes:\n",
      "[1] Standard Errors assume that the covariance matrix of the errors is correctly specified.\n"
     ]
    }
   ],
   "source": [
    "OLS_11 = ols(formula='lcrmrte~lpolpc+d82+d83+d84+d85+d86+d87+Dcounty',data=df_county_dum).fit()\n",
    "print(OLS_11.summary())"
   ]
  },
  {
   "cell_type": "code",
   "execution_count": 143,
   "id": "b2f9fb28-df85-4e88-a384-1cef26fcaac9",
   "metadata": {
    "tags": []
   },
   "outputs": [],
   "source": [
    "# Gama0:\n",
    "# Shows the initial crime rate in 1981 in county number 1.\n",
    "\n",
    "# Gama1:\n",
    "# Shows the elasticity between the number of police officers per capita in a certain year and \n",
    "# in a certain district and the crime rate.\n",
    "\n",
    "# Dyear: \n",
    "# The addition to the intercept for a certain year.\n",
    "\n",
    "# Dcounty: \n",
    "# The addition to the intercept for a certain county."
   ]
  },
  {
   "cell_type": "code",
   "execution_count": 144,
   "id": "d0ec4ea9-b4b2-4fcb-843f-0071639121df",
   "metadata": {
    "tags": []
   },
   "outputs": [
    {
     "name": "stdout",
     "output_type": "stream",
     "text": [
      "delta1: 0.268\n",
      "gama1: 0.239\n"
     ]
    }
   ],
   "source": [
    "delta1 = OLS_LOG10.params.clpolpc\n",
    "gama1 = OLS_11.params.lpolpc\n",
    "print(\"delta1:\",delta1.round(4))\n",
    "print(\"gama1:\",gama1.round(4))"
   ]
  },
  {
   "cell_type": "code",
   "execution_count": 145,
   "id": "067fba83-1021-4018-b270-d3bcb746f5a4",
   "metadata": {
    "tags": []
   },
   "outputs": [],
   "source": [
    "# Both methods (FD & FE) are valuable tools in panel data analysis, \n",
    "# and the choice between them depends on the specific context and structure of our data."
   ]
  },
  {
   "cell_type": "markdown",
   "id": "89715976-1b32-432b-9390-530d2e063b34",
   "metadata": {},
   "source": [
    "# Q12"
   ]
  },
  {
   "cell_type": "code",
   "execution_count": 146,
   "id": "c0b6c63b-8d57-4928-aa5d-74d59914aa27",
   "metadata": {
    "tags": []
   },
   "outputs": [],
   "source": [
    "AVGs = df.groupby(by = \"county\")[['lcrmrte','lpolpc','central']].mean().reset_index()"
   ]
  },
  {
   "cell_type": "code",
   "execution_count": 147,
   "id": "95737504-0801-4fc7-9f1c-28126078d5ce",
   "metadata": {
    "tags": []
   },
   "outputs": [],
   "source": [
    "df = df.merge(AVGs, on='county', how='left', suffixes=('', '_MeanC'))"
   ]
  },
  {
   "cell_type": "code",
   "execution_count": 148,
   "id": "2f674729-3af8-4d33-84ca-bd816efc42f2",
   "metadata": {
    "tags": []
   },
   "outputs": [
    {
     "name": "stdout",
     "output_type": "stream",
     "text": [
      "<class 'pandas.core.frame.DataFrame'>\n",
      "Int64Index: 630 entries, 0 to 629\n",
      "Data columns (total 56 columns):\n",
      " #   Column         Non-Null Count  Dtype  \n",
      "---  ------         --------------  -----  \n",
      " 0   county         630 non-null    int64  \n",
      " 1   year           630 non-null    int64  \n",
      " 2   crmrte         630 non-null    float64\n",
      " 3   prbarr         630 non-null    float64\n",
      " 4   prbconv        630 non-null    float64\n",
      " 5   prbpris        630 non-null    float64\n",
      " 6   avgsen         630 non-null    float64\n",
      " 7   polpc          630 non-null    float64\n",
      " 8   density        630 non-null    float64\n",
      " 9   taxpc          630 non-null    float64\n",
      " 10  west           630 non-null    int64  \n",
      " 11  central        630 non-null    int64  \n",
      " 12  urban          630 non-null    int64  \n",
      " 13  pctmin80       630 non-null    float64\n",
      " 14  wcon           630 non-null    float64\n",
      " 15  wtuc           630 non-null    float64\n",
      " 16  wtrd           630 non-null    float64\n",
      " 17  wfir           630 non-null    float64\n",
      " 18  wser           630 non-null    float64\n",
      " 19  wmfg           630 non-null    float64\n",
      " 20  wfed           630 non-null    float64\n",
      " 21  wsta           630 non-null    float64\n",
      " 22  wloc           630 non-null    float64\n",
      " 23  mix            630 non-null    float64\n",
      " 24  pctymle        630 non-null    float64\n",
      " 25  d82            630 non-null    int64  \n",
      " 26  d83            630 non-null    int64  \n",
      " 27  d84            630 non-null    int64  \n",
      " 28  d85            630 non-null    int64  \n",
      " 29  d86            630 non-null    int64  \n",
      " 30  d87            630 non-null    int64  \n",
      " 31  lcrmrte        630 non-null    float64\n",
      " 32  lprbarr        630 non-null    float64\n",
      " 33  lprbconv       630 non-null    float64\n",
      " 34  lprbpris       630 non-null    float64\n",
      " 35  lavgsen        630 non-null    float64\n",
      " 36  lpolpc         630 non-null    float64\n",
      " 37  ldensity       630 non-null    float64\n",
      " 38  ltaxpc         630 non-null    float64\n",
      " 39  lwcon          630 non-null    float64\n",
      " 40  lwtuc          630 non-null    float64\n",
      " 41  lwtrd          630 non-null    float64\n",
      " 42  lwfir          630 non-null    float64\n",
      " 43  lwser          630 non-null    float64\n",
      " 44  lwmfg          630 non-null    float64\n",
      " 45  lwfed          630 non-null    float64\n",
      " 46  lwsta          630 non-null    float64\n",
      " 47  lwloc          630 non-null    float64\n",
      " 48  lmix           630 non-null    float64\n",
      " 49  lpctymle       630 non-null    float64\n",
      " 50  lpctmin        630 non-null    float64\n",
      " 51  clcrmrte       540 non-null    float64\n",
      " 52  clpolpc        540 non-null    float64\n",
      " 53  lcrmrte_MeanC  630 non-null    float64\n",
      " 54  lpolpc_MeanC   630 non-null    float64\n",
      " 55  central_MeanC  630 non-null    float64\n",
      "dtypes: float64(45), int64(11)\n",
      "memory usage: 280.5 KB\n"
     ]
    }
   ],
   "source": [
    "df.info()"
   ]
  },
  {
   "cell_type": "code",
   "execution_count": 149,
   "id": "f9deebc8-3c9f-4ade-8385-392ab5627a81",
   "metadata": {
    "tags": []
   },
   "outputs": [],
   "source": [
    "df['Y'] = df.lcrmrte - df.lcrmrte_MeanC\n",
    "df['X'] = df.lpolpc - df.lpolpc_MeanC\n",
    "df['Z'] = df.central - df.central_MeanC"
   ]
  },
  {
   "cell_type": "code",
   "execution_count": 150,
   "id": "2ae2f1de-37db-4a4b-8789-7985bc5fe9bf",
   "metadata": {
    "tags": []
   },
   "outputs": [
    {
     "data": {
      "text/plain": [
       "array([0.])"
      ]
     },
     "execution_count": 150,
     "metadata": {},
     "output_type": "execute_result"
    }
   ],
   "source": [
    "df.Z.unique()"
   ]
  },
  {
   "cell_type": "code",
   "execution_count": 151,
   "id": "46fdc424-88c6-4b80-86e1-c3f2231634eb",
   "metadata": {
    "tags": []
   },
   "outputs": [],
   "source": [
    "# The values that the variable 'Z' receives are 0. This is because the 'central' variable is a dummy variable (0 or 1) and \n",
    "# therefore any difference from the average will be equal to 0.\n",
    "# The mean of every county is equal to the value of each county (in each year)."
   ]
  },
  {
   "cell_type": "code",
   "execution_count": 152,
   "id": "dc8b0dee-0b59-494b-a1c7-72157dd71412",
   "metadata": {
    "tags": []
   },
   "outputs": [
    {
     "data": {
      "text/plain": [
       "Text(0.5, 1.0, 'County - 25')"
      ]
     },
     "execution_count": 152,
     "metadata": {},
     "output_type": "execute_result"
    },
    {
     "data": {
      "image/png": "[encoded data removed]",
      "text/plain": [
       "<Figure size 800x400 with 1 Axes>"
      ]
     },
     "metadata": {},
     "output_type": "display_data"
    }
   ],
   "source": [
    "sns.lmplot( data = df_county25,\n",
    "           x = 'polpc',\n",
    "           y = 'crmrte',  \n",
    "           line_kws={'color': 'green'}, scatter_kws={'color': 'blue'},height=4, aspect=2)\n",
    "plt.title(\"County - 25\")"
   ]
  },
  {
   "cell_type": "code",
   "execution_count": 153,
   "id": "b87abad9-3f3e-41b9-bcde-c2d3bf533ca2",
   "metadata": {
    "tags": []
   },
   "outputs": [],
   "source": [
    "df_county25 = df.loc[df.county == 25]"
   ]
  },
  {
   "cell_type": "code",
   "execution_count": 154,
   "id": "164155cf-7f1a-4f24-87ac-f32e1a915bd3",
   "metadata": {
    "tags": []
   },
   "outputs": [
    {
     "data": {
      "text/plain": [
       "Text(0.5, 1.0, 'County - 25')"
      ]
     },
     "execution_count": 154,
     "metadata": {},
     "output_type": "execute_result"
    },
    {
     "data": {
      "image/png": "[encoded data removed]",
      "text/plain": [
       "<Figure size 800x400 with 1 Axes>"
      ]
     },
     "metadata": {},
     "output_type": "display_data"
    }
   ],
   "source": [
    "sns.lmplot( data = df_county25,\n",
    "           x = 'X',\n",
    "           y = 'Y',  \n",
    "           line_kws={'color': 'orange'}, scatter_kws={'color': 'blue'},height=4, aspect=2)\n",
    "plt.title(\"County - 25\")"
   ]
  },
  {
   "cell_type": "code",
   "execution_count": 155,
   "id": "6a8fe2ea-7417-4cca-913c-052aa464bf4b",
   "metadata": {
    "tags": []
   },
   "outputs": [],
   "source": [
    "# The observations are placed in the same place but the values are different.\n",
    "# This is because we subtracted from the original value the average value for each observation in each county. \n",
    "# Therefore, the relative position of the observations is the same and their value is different."
   ]
  },
  {
   "cell_type": "code",
   "execution_count": 156,
   "id": "df4dc01e-6dcb-4ba6-9fc8-d654d1f95089",
   "metadata": {
    "tags": []
   },
   "outputs": [],
   "source": [
    "# In our opinion, it is not meaningful to test the regression on a single county, \n",
    "# but estimating the regression of variable y on x is a particular form of FE estimating because \n",
    "# the average value of each county contains values that are constant over time for \n",
    "# each county and by substructing the average value, we reduced the constant values over time."
   ]
  },
  {
   "cell_type": "code",
   "execution_count": 157,
   "id": "b0500628-cd7c-439b-be60-594776ddd918",
   "metadata": {
    "tags": []
   },
   "outputs": [
    {
     "name": "stdout",
     "output_type": "stream",
     "text": [
      "                            OLS Regression Results                            \n",
      "==============================================================================\n",
      "Dep. Variable:                      Y   R-squared:                       0.225\n",
      "Model:                            OLS   Adj. R-squared:                  0.216\n",
      "Method:                 Least Squares   F-statistic:                     25.73\n",
      "Date:                Thu, 27 Jun 2024   Prob (F-statistic):           5.73e-31\n",
      "Time:                        16:24:05   Log-Likelihood:                 306.27\n",
      "No. Observations:                 630   AIC:                            -596.5\n",
      "Df Residuals:                     622   BIC:                            -561.0\n",
      "Df Model:                           7                                         \n",
      "Covariance Type:            nonrobust                                         \n",
      "==============================================================================\n",
      "                 coef    std err          t      P>|t|      [0.025      0.975]\n",
      "------------------------------------------------------------------------------\n",
      "Intercept      0.0664      0.016      4.193      0.000       0.035       0.097\n",
      "X              0.2390      0.024      9.842      0.000       0.191       0.287\n",
      "d82            0.0007      0.022      0.033      0.974      -0.043       0.045\n",
      "d83           -0.0904      0.022     -4.044      0.000      -0.134      -0.046\n",
      "d84           -0.1450      0.022     -6.473      0.000      -0.189      -0.101\n",
      "d85           -0.1444      0.022     -6.442      0.000      -0.188      -0.100\n",
      "d86           -0.0789      0.022     -3.527      0.000      -0.123      -0.035\n",
      "d87           -0.0065      0.022     -0.292      0.770      -0.051       0.037\n",
      "==============================================================================\n",
      "Omnibus:                       70.446   Durbin-Watson:                   1.562\n",
      "Prob(Omnibus):                  0.000   Jarque-Bera (JB):              335.766\n",
      "Skew:                          -0.362   Prob(JB):                     1.23e-73\n",
      "Kurtosis:                       6.502   Cond. No.                         7.90\n",
      "==============================================================================\n",
      "\n",
      "Notes:\n",
      "[1] Standard Errors assume that the covariance matrix of the errors is correctly specified.\n"
     ]
    }
   ],
   "source": [
    "OLS_12 = ols(formula='Y~X+d82+d83+d84+d85+d86+d87',data=df).fit()\n",
    "print(OLS_12.summary())"
   ]
  },
  {
   "cell_type": "code",
   "execution_count": 158,
   "id": "1776a85a-f613-452b-ae9b-c2f786541766",
   "metadata": {
    "tags": []
   },
   "outputs": [
    {
     "name": "stdout",
     "output_type": "stream",
     "text": [
      "phi1: 0.239\n",
      "gama1: 0.239\n"
     ]
    }
   ],
   "source": [
    "phi1 = OLS_12.params.X\n",
    "print(\"phi1:\",phi1.round(4))\n",
    "print(\"gama1:\",gama1.round(4))"
   ]
  },
  {
   "cell_type": "code",
   "execution_count": 159,
   "id": "22b74f28-4c20-431d-a213-324b84c21d2c",
   "metadata": {
    "tags": []
   },
   "outputs": [],
   "source": [
    "# Both estimates are the same. A logical explanation for this is that the average of each county \n",
    "# is constant over the years in both x and y. This average contains constant characteristics of \n",
    "# that county over time and can therefore be used as a dummy variable for the county. Therefore, estimating \n",
    "# the direction and strength of the effect of the differences from the averages (when there is a dummy variable for the year) \n",
    "# is exactly like estimating the direction and strength of the effect of the model in question 11."
   ]
  },
  {
   "cell_type": "code",
   "execution_count": 160,
   "id": "f508c027-d0aa-4d2e-8e9e-4bc479a70545",
   "metadata": {
    "tags": []
   },
   "outputs": [],
   "source": [
    "# The claim is correct from the reasons we mantioned above."
   ]
  },
  {
   "cell_type": "markdown",
   "id": "65767866-7fa5-491c-aa74-e1b30d2e4434",
   "metadata": {},
   "source": [
    "# Q13"
   ]
  },
  {
   "cell_type": "code",
   "execution_count": 161,
   "id": "796bd7bd-c203-4d96-91ca-8894ae9b8c49",
   "metadata": {
    "tags": []
   },
   "outputs": [
    {
     "name": "stdout",
     "output_type": "stream",
     "text": [
      "                            OLS Regression Results                            \n",
      "==============================================================================\n",
      "Dep. Variable:                lcrmrte   R-squared:                       0.953\n",
      "Model:                            OLS   Adj. R-squared:                  0.943\n",
      "Method:                 Least Squares   F-statistic:                     97.17\n",
      "Date:                Thu, 27 Jun 2024   Prob (F-statistic):          2.11e-286\n",
      "Time:                        16:24:06   Log-Likelihood:                 418.78\n",
      "No. Observations:                 630   AIC:                            -619.6\n",
      "Df Residuals:                     521   BIC:                            -135.0\n",
      "Df Model:                         108                                         \n",
      "Covariance Type:            nonrobust                                         \n",
      "===============================================================================\n",
      "                  coef    std err          t      P>|t|      [0.025      0.975]\n",
      "-------------------------------------------------------------------------------\n",
      "Intercept       1.1924      1.436      0.830      0.407      -1.629       4.014\n",
      "lpolpc          0.4231      0.026     16.067      0.000       0.371       0.475\n",
      "d82             0.0195      0.024      0.802      0.423      -0.028       0.067\n",
      "d83            -0.0548      0.033     -1.677      0.094      -0.119       0.009\n",
      "d84            -0.0609      0.041     -1.498      0.135      -0.141       0.019\n",
      "d85            -0.0390      0.056     -0.700      0.484      -0.148       0.070\n",
      "d86             0.0005      0.068      0.007      0.994      -0.133       0.134\n",
      "d87             0.0540      0.080      0.677      0.499      -0.103       0.211\n",
      "lprbarr        -0.3564      0.032    -11.093      0.000      -0.419      -0.293\n",
      "lprbconv       -0.2860      0.021    -13.603      0.000      -0.327      -0.245\n",
      "lprbpris       -0.1753      0.032     -5.436      0.000      -0.239      -0.112\n",
      "lwfed          -0.3328      0.176     -1.888      0.060      -0.679       0.013\n",
      "lwmfg          -0.3006      0.109     -2.750      0.006      -0.515      -0.086\n",
      "lwser           0.0103      0.019      0.537      0.592      -0.027       0.048\n",
      "lwfir          -0.0036      0.028     -0.127      0.899      -0.059       0.052\n",
      "lwtrd          -0.0203      0.041     -0.499      0.618      -0.100       0.059\n",
      "lwtuc           0.0460      0.019      2.418      0.016       0.009       0.083\n",
      "lwcon          -0.0347      0.039     -0.888      0.375      -0.112       0.042\n",
      "lwsta           0.0215      0.113      0.190      0.849      -0.200       0.243\n",
      "lwloc           0.1809      0.118      1.534      0.126      -0.051       0.413\n",
      "Dcounty[0]     -0.5503      0.088     -6.259      0.000      -0.723      -0.378\n",
      "Dcounty[1]     -1.0184      0.099    -10.256      0.000      -1.213      -0.823\n",
      "Dcounty[2]     -0.3365      0.083     -4.060      0.000      -0.499      -0.174\n",
      "Dcounty[3]     -0.8213      0.099     -8.258      0.000      -1.017      -0.626\n",
      "Dcounty[4]     -1.1531      0.098    -11.816      0.000      -1.345      -0.961\n",
      "Dcounty[5]     -0.0146      0.080     -0.184      0.854      -0.171       0.142\n",
      "Dcounty[6]     -0.4243      0.091     -4.646      0.000      -0.604      -0.245\n",
      "Dcounty[7]     -0.4169      0.088     -4.742      0.000      -0.590      -0.244\n",
      "Dcounty[8]     -0.6079      0.104     -5.845      0.000      -0.812      -0.404\n",
      "Dcounty[9]     -0.0882      0.080     -1.096      0.274      -0.246       0.070\n",
      "Dcounty[10]    -0.3403      0.076     -4.462      0.000      -0.490      -0.190\n",
      "Dcounty[11]    -0.1680      0.079     -2.127      0.034      -0.323      -0.013\n",
      "Dcounty[12]    -0.2097      0.079     -2.643      0.008      -0.365      -0.054\n",
      "Dcounty[13]    -0.4035      0.102     -3.951      0.000      -0.604      -0.203\n",
      "Dcounty[14]    -0.0142      0.080     -0.178      0.858      -0.171       0.143\n",
      "Dcounty[15]    -0.4924      0.079     -6.199      0.000      -0.648      -0.336\n",
      "Dcounty[16]    -0.9090      0.096     -9.456      0.000      -1.098      -0.720\n",
      "Dcounty[17]    -0.3920      0.078     -5.026      0.000      -0.545      -0.239\n",
      "Dcounty[18]    -0.0438      0.077     -0.565      0.572      -0.196       0.108\n",
      "Dcounty[19]    -0.2679      0.084     -3.175      0.002      -0.434      -0.102\n",
      "Dcounty[20]    -0.0771      0.077     -0.999      0.318      -0.229       0.075\n",
      "Dcounty[21]     0.3570      0.092      3.892      0.000       0.177       0.537\n",
      "Dcounty[22]    -0.8403      0.115     -7.327      0.000      -1.066      -0.615\n",
      "Dcounty[23]    -0.2805      0.103     -2.732      0.007      -0.482      -0.079\n",
      "Dcounty[24]    -0.1711      0.075     -2.279      0.023      -0.319      -0.024\n",
      "Dcounty[25]    -0.5506      0.082     -6.714      0.000      -0.712      -0.390\n",
      "Dcounty[26]    -0.4924      0.082     -6.000      0.000      -0.654      -0.331\n",
      "Dcounty[27]     0.4076      0.111      3.666      0.000       0.189       0.626\n",
      "Dcounty[28]     0.4104      0.080      5.125      0.000       0.253       0.568\n",
      "Dcounty[29]     0.0329      0.090      0.364      0.716      -0.145       0.210\n",
      "Dcounty[30]    -0.3820      0.098     -3.896      0.000      -0.575      -0.189\n",
      "Dcounty[31]     0.1476      0.080      1.853      0.064      -0.009       0.304\n",
      "Dcounty[32]    -0.1155      0.078     -1.475      0.141      -0.269       0.038\n",
      "Dcounty[33]    -0.8668      0.102     -8.510      0.000      -1.067      -0.667\n",
      "Dcounty[34]     0.2452      0.091      2.684      0.008       0.066       0.425\n",
      "Dcounty[35]    -0.0323      0.078     -0.414      0.679      -0.186       0.121\n",
      "Dcounty[36]    -0.0226      0.084     -0.270      0.787      -0.187       0.142\n",
      "Dcounty[37]    -0.2072      0.099     -2.100      0.036      -0.401      -0.013\n",
      "Dcounty[38]    -0.1127      0.081     -1.399      0.162      -0.271       0.046\n",
      "Dcounty[39]    -0.1030      0.080     -1.285      0.199      -0.260       0.054\n",
      "Dcounty[40]     0.0411      0.085      0.481      0.630      -0.127       0.209\n",
      "Dcounty[41]     0.0654      0.075      0.867      0.386      -0.083       0.214\n",
      "Dcounty[42]    -1.0344      0.093    -11.118      0.000      -1.217      -0.852\n",
      "Dcounty[43]    -0.0926      0.079     -1.175      0.241      -0.247       0.062\n",
      "Dcounty[44]     0.2615      0.081      3.235      0.001       0.103       0.420\n",
      "Dcounty[45]     0.1463      0.077      1.901      0.058      -0.005       0.297\n",
      "Dcounty[46]    -0.5685      0.080     -7.115      0.000      -0.725      -0.412\n",
      "Dcounty[47]    -0.6780      0.095     -7.135      0.000      -0.865      -0.491\n",
      "Dcounty[48]    -1.4531      0.109    -13.349      0.000      -1.667      -1.239\n",
      "Dcounty[49]    -2.2644      0.108    -20.957      0.000      -2.477      -2.052\n",
      "Dcounty[50]    -0.1367      0.091     -1.500      0.134      -0.316       0.042\n",
      "Dcounty[51]     0.6166      0.098      6.314      0.000       0.425       0.808\n",
      "Dcounty[52]    -0.2677      0.100     -2.667      0.008      -0.465      -0.071\n",
      "Dcounty[53]    -0.4037      0.078     -5.145      0.000      -0.558      -0.250\n",
      "Dcounty[54]     0.2642      0.076      3.457      0.001       0.114       0.414\n",
      "Dcounty[55]     0.5632      0.089      6.327      0.000       0.388       0.738\n",
      "Dcounty[56]    -0.3556      0.095     -3.739      0.000      -0.542      -0.169\n",
      "Dcounty[57]    -0.0941      0.106     -0.889      0.374      -0.302       0.114\n",
      "Dcounty[58]    -0.0345      0.098     -0.351      0.726      -0.228       0.159\n",
      "Dcounty[59]    -0.8366      0.125     -6.674      0.000      -1.083      -0.590\n",
      "Dcounty[60]    -0.1789      0.081     -2.204      0.028      -0.338      -0.019\n",
      "Dcounty[61]    -0.1339      0.104     -1.289      0.198      -0.338       0.070\n",
      "Dcounty[62]    -0.4784      0.108     -4.411      0.000      -0.692      -0.265\n",
      "Dcounty[63]    -0.1778      0.080     -2.232      0.026      -0.334      -0.021\n",
      "Dcounty[64]     0.2106      0.089      2.361      0.019       0.035       0.386\n",
      "Dcounty[65]    -0.8536      0.082    -10.383      0.000      -1.015      -0.692\n",
      "Dcounty[66]    -0.3529      0.077     -4.562      0.000      -0.505      -0.201\n",
      "Dcounty[67]     0.0350      0.078      0.449      0.653      -0.118       0.188\n",
      "Dcounty[68]     0.0058      0.081      0.072      0.943      -0.154       0.166\n",
      "Dcounty[69]    -0.1831      0.080     -2.285      0.023      -0.340      -0.026\n",
      "Dcounty[70]    -0.1390      0.077     -1.812      0.071      -0.290       0.012\n",
      "Dcounty[71]    -0.4039      0.079     -5.135      0.000      -0.558      -0.249\n",
      "Dcounty[72]    -0.4675      0.081     -5.763      0.000      -0.627      -0.308\n",
      "Dcounty[73]     0.2924      0.081      3.598      0.000       0.133       0.452\n",
      "Dcounty[74]    -0.4478      0.076     -5.914      0.000      -0.597      -0.299\n",
      "Dcounty[75]    -0.7405      0.091     -8.167      0.000      -0.919      -0.562\n",
      "Dcounty[76]    -0.4615      0.084     -5.484      0.000      -0.627      -0.296\n",
      "Dcounty[77]    -1.7464      0.110    -15.862      0.000      -1.963      -1.530\n",
      "Dcounty[78]    -0.6758      0.133     -5.085      0.000      -0.937      -0.415\n",
      "Dcounty[79]    -0.2411      0.080     -3.009      0.003      -0.398      -0.084\n",
      "Dcounty[80]     0.3192      0.079      4.035      0.000       0.164       0.475\n",
      "Dcounty[81]     0.1579      0.095      1.661      0.097      -0.029       0.345\n",
      "Dcounty[82]    -1.1472      0.106    -10.845      0.000      -1.355      -0.939\n",
      "Dcounty[83]    -0.1231      0.089     -1.390      0.165      -0.297       0.051\n",
      "Dcounty[84]    -0.6616      0.093     -7.132      0.000      -0.844      -0.479\n",
      "Dcounty[85]    -0.1252      0.101     -1.234      0.218      -0.325       0.074\n",
      "Dcounty[86]    -0.3714      0.078     -4.780      0.000      -0.524      -0.219\n",
      "Dcounty[87]    -0.0082      0.080     -0.103      0.918      -0.165       0.149\n",
      "Dcounty[88]    -0.7684      0.093     -8.268      0.000      -0.951      -0.586\n",
      "==============================================================================\n",
      "Omnibus:                       55.779   Durbin-Watson:                   1.654\n",
      "Prob(Omnibus):                  0.000   Jarque-Bera (JB):              201.532\n",
      "Skew:                          -0.331   Prob(JB):                     1.73e-44\n",
      "Kurtosis:                       5.690   Cond. No.                     4.91e+03\n",
      "==============================================================================\n",
      "\n",
      "Notes:\n",
      "[1] Standard Errors assume that the covariance matrix of the errors is correctly specified.\n",
      "[2] The condition number is large, 4.91e+03. This might indicate that there are\n",
      "strong multicollinearity or other numerical problems.\n"
     ]
    }
   ],
   "source": [
    "OLS_13 = ols(formula=\n",
    "\"lcrmrte~lpolpc+d82+d83+d84+d85+d86+d87+lprbarr+lprbconv+lprbpris+lwfed+lwmfg+lwser+lwfir+lwtrd+lwtuc+lwcon+lwsta+lwloc+Dcounty\"\n",
    "             ,data=df_county_dum).fit()\n",
    "print(OLS_13.summary()) "
   ]
  },
  {
   "cell_type": "code",
   "execution_count": 162,
   "id": "056573f0-086f-4156-a59f-c7f6c6837cd3",
   "metadata": {
    "tags": []
   },
   "outputs": [],
   "source": [
    "# Phi0:\n",
    "# Where all other variables are equal to zero, shows the log of initial crime rate in 1981 in county number 1.\n",
    "\n",
    "# Phi1:\n",
    "# Shows the elasticity between the number of police officers per capita in a certain year \n",
    "# in a certain county and the crime rate.\n",
    "\n",
    "# D(year): \n",
    "# The addition to the intercept for a certain year.\n",
    "\n",
    "# Phi2(lprbarr):\n",
    "# Shows the elasticity between the probability of arrest in a certain year\n",
    "# in a certain county and the crime rate.\n",
    "\n",
    "# Phi3(lprbconv):\n",
    "# Shows the elasticity between the probability of conviction in a certain year\n",
    "# in a certain county and the crime rate.\n",
    "\n",
    "# Phi4(lprbpris):\n",
    "# Shows the elasticity between the probability of prison sentence in a certain year\n",
    "# in a certain county and the crime rate.\n",
    "\n",
    "# Phi5(lwfed):\n",
    "# Shows the elasticity between the wage in federal government in a certain year\n",
    "# in a certain county and the crime rate.\n",
    "\n",
    "# Phi6(lwmfg):\n",
    "# Shows the elasticity between the wage in manufacturing in a certain year\n",
    "# in a certain county and the crime rate.\n",
    "\n",
    "# Phi7(lwser):\n",
    "# Shows the elasticity between the wage in services in a certain year\n",
    "# in a certain county and the crime rate.\n",
    "\n",
    "# Phi8(lwfir):\n",
    "# Shows the elasticity between the wage in finance, insurance, and real estate in a certain year\n",
    "# in a certain county and the crime rate.\n",
    "\n",
    "# Phi9(lwtrd):\n",
    "# Shows the elasticity between the wage in trade in a certain year\n",
    "# in a certain county and the crime rate.\n",
    "\n",
    "# Phi10(lwtuc):\n",
    "# Shows the elasticity between the wage in transportation, utilities, and communications in a certain year\n",
    "# in a certain county and the crime rate.\n",
    "\n",
    "# Phi11(lwcon):\n",
    "# Shows the elasticity between the wage in construction in a certain year\n",
    "# in a certain county and the crime rate.\n",
    "\n",
    "# Phil12(lwsta):\n",
    "# Shows the elasticity between the pwage in state government in a certain year\n",
    "# in a certain county and the crime rate.\n",
    "\n",
    "# Phil13(lwloc):\n",
    "# Shows the elasticity between the wage in local government in a certain year\n",
    "# in a certain county and the crime rate.\n",
    "\n",
    "# D(county): \n",
    "# The addition to the intercept for a certain county."
   ]
  },
  {
   "cell_type": "code",
   "execution_count": 163,
   "id": "61548f67-7751-4482-b339-5f150d36a9b0",
   "metadata": {
    "tags": []
   },
   "outputs": [
    {
     "name": "stdout",
     "output_type": "stream",
     "text": [
      "phi1: 0.239\n",
      "phi1New: 0.4231\n"
     ]
    }
   ],
   "source": [
    "phi1New = OLS_13.params.lpolpc\n",
    "print(\"phi1:\",phi1.round(4))\n",
    "print(\"phi1New:\",phi1New.round(4))"
   ]
  },
  {
   "cell_type": "code",
   "execution_count": 164,
   "id": "b1ca3ffe-a6fc-458d-9319-210a258dbe98",
   "metadata": {},
   "outputs": [],
   "source": [
    "# In both models the direction is positive. The new model shows stronger effect."
   ]
  },
  {
   "cell_type": "code",
   "execution_count": 165,
   "id": "99282996-b773-468d-8e29-9ca66a2c9922",
   "metadata": {
    "tags": []
   },
   "outputs": [
    {
     "name": "stdout",
     "output_type": "stream",
     "text": [
      "<F test: F=2.4805299341452756, p=0.008860670540138366, df_denom=521, df_num=9>\n"
     ]
    }
   ],
   "source": [
    "hypothesis1 = '(lwloc),(lwsta),(lwfed),(lwmfg),(lwser),(lwfir),(lwtrd),(lwtuc),(lwcon)=0'\n",
    "f_test1 = OLS_13.f_test(hypothesis1)\n",
    "print(f_test1)"
   ]
  },
  {
   "cell_type": "code",
   "execution_count": 166,
   "id": "2ecf4e02-30d0-4af9-9a0f-22a8c039d567",
   "metadata": {
    "tags": []
   },
   "outputs": [],
   "source": [
    "# Critical Statistic F for 9 limitations and  N = 630 fro alpha=0.05 according to F table is: 1.88\n",
    "# Therefore, the hypthesis that the variables above are not statistically significant is denied."
   ]
  },
  {
   "cell_type": "code",
   "execution_count": 167,
   "id": "eb1d35f9-4bf8-4c71-b776-373bd8212d55",
   "metadata": {
    "tags": []
   },
   "outputs": [
    {
     "data": {
      "text/plain": [
       "<Axes: >"
      ]
     },
     "execution_count": 167,
     "metadata": {},
     "output_type": "execute_result"
    },
    {
     "data": {
      "image/png": "[encoded data removed]",
      "text/plain": [
       "<Figure size 640x480 with 2 Axes>"
      ]
     },
     "metadata": {},
     "output_type": "display_data"
    }
   ],
   "source": [
    "corr_matrix = df[['lpolpc','lprbarr','lprbconv','lprbpris',\n",
    "                 'lwfed','lwmfg','wser','lwfir','lwtrd','lwtuc','lwcon','lwsta','lwloc']].corr().round(2)\n",
    "sns.heatmap(corr_matrix, annot=True,fmt=' .1f', linewidths=0.001)"
   ]
  },
  {
   "cell_type": "code",
   "execution_count": 168,
   "id": "72b641f3-4541-498d-9f99-0153cdfc2aaf",
   "metadata": {
    "tags": []
   },
   "outputs": [
    {
     "data": {
      "text/html": [
       "<div>\n",
       "<style scoped>\n",
       "    .dataframe tbody tr th:only-of-type {\n",
       "        vertical-align: middle;\n",
       "    }\n",
       "\n",
       "    .dataframe tbody tr th {\n",
       "        vertical-align: top;\n",
       "    }\n",
       "\n",
       "    .dataframe thead th {\n",
       "        text-align: right;\n",
       "    }\n",
       "</style>\n",
       "<table border=\"1\" class=\"dataframe\">\n",
       "  <thead>\n",
       "    <tr style=\"text-align: right;\">\n",
       "      <th></th>\n",
       "      <th>VIF</th>\n",
       "      <th>variable</th>\n",
       "    </tr>\n",
       "  </thead>\n",
       "  <tbody>\n",
       "    <tr>\n",
       "      <th>0</th>\n",
       "      <td>69355.267195</td>\n",
       "      <td>Intercept</td>\n",
       "    </tr>\n",
       "    <tr>\n",
       "      <th>1</th>\n",
       "      <td>6.456394</td>\n",
       "      <td>lpolpc</td>\n",
       "    </tr>\n",
       "    <tr>\n",
       "      <th>2</th>\n",
       "      <td>2.447069</td>\n",
       "      <td>d82</td>\n",
       "    </tr>\n",
       "    <tr>\n",
       "      <th>3</th>\n",
       "      <td>4.389823</td>\n",
       "      <td>d83</td>\n",
       "    </tr>\n",
       "    <tr>\n",
       "      <th>4</th>\n",
       "      <td>6.802920</td>\n",
       "      <td>d84</td>\n",
       "    </tr>\n",
       "    <tr>\n",
       "      <th>5</th>\n",
       "      <td>12.789020</td>\n",
       "      <td>d85</td>\n",
       "    </tr>\n",
       "    <tr>\n",
       "      <th>6</th>\n",
       "      <td>18.895610</td>\n",
       "      <td>d86</td>\n",
       "    </tr>\n",
       "    <tr>\n",
       "      <th>7</th>\n",
       "      <td>26.209307</td>\n",
       "      <td>d87</td>\n",
       "    </tr>\n",
       "    <tr>\n",
       "      <th>8</th>\n",
       "      <td>5.994092</td>\n",
       "      <td>lprbarr</td>\n",
       "    </tr>\n",
       "    <tr>\n",
       "      <th>9</th>\n",
       "      <td>5.515282</td>\n",
       "      <td>lprbconv</td>\n",
       "    </tr>\n",
       "    <tr>\n",
       "      <th>10</th>\n",
       "      <td>1.856125</td>\n",
       "      <td>lprbpris</td>\n",
       "    </tr>\n",
       "    <tr>\n",
       "      <th>11</th>\n",
       "      <td>26.290499</td>\n",
       "      <td>lwfed</td>\n",
       "    </tr>\n",
       "    <tr>\n",
       "      <th>12</th>\n",
       "      <td>29.838792</td>\n",
       "      <td>lwmfg</td>\n",
       "    </tr>\n",
       "    <tr>\n",
       "      <th>13</th>\n",
       "      <td>1.593388</td>\n",
       "      <td>lwser</td>\n",
       "    </tr>\n",
       "    <tr>\n",
       "      <th>14</th>\n",
       "      <td>2.066343</td>\n",
       "      <td>lwfir</td>\n",
       "    </tr>\n",
       "    <tr>\n",
       "      <th>15</th>\n",
       "      <td>2.538986</td>\n",
       "      <td>lwtrd</td>\n",
       "    </tr>\n",
       "    <tr>\n",
       "      <th>16</th>\n",
       "      <td>1.663948</td>\n",
       "      <td>lwtuc</td>\n",
       "    </tr>\n",
       "    <tr>\n",
       "      <th>17</th>\n",
       "      <td>3.161007</td>\n",
       "      <td>lwcon</td>\n",
       "    </tr>\n",
       "    <tr>\n",
       "      <th>18</th>\n",
       "      <td>13.289373</td>\n",
       "      <td>lwsta</td>\n",
       "    </tr>\n",
       "    <tr>\n",
       "      <th>19</th>\n",
       "      <td>11.910732</td>\n",
       "      <td>lwloc</td>\n",
       "    </tr>\n",
       "    <tr>\n",
       "      <th>20</th>\n",
       "      <td>2.855841</td>\n",
       "      <td>Dcounty[0]</td>\n",
       "    </tr>\n",
       "    <tr>\n",
       "      <th>21</th>\n",
       "      <td>3.643316</td>\n",
       "      <td>Dcounty[1]</td>\n",
       "    </tr>\n",
       "    <tr>\n",
       "      <th>22</th>\n",
       "      <td>2.537286</td>\n",
       "      <td>Dcounty[2]</td>\n",
       "    </tr>\n",
       "    <tr>\n",
       "      <th>23</th>\n",
       "      <td>3.654706</td>\n",
       "      <td>Dcounty[3]</td>\n",
       "    </tr>\n",
       "    <tr>\n",
       "      <th>24</th>\n",
       "      <td>3.519102</td>\n",
       "      <td>Dcounty[4]</td>\n",
       "    </tr>\n",
       "    <tr>\n",
       "      <th>25</th>\n",
       "      <td>2.344803</td>\n",
       "      <td>Dcounty[5]</td>\n",
       "    </tr>\n",
       "    <tr>\n",
       "      <th>26</th>\n",
       "      <td>3.081492</td>\n",
       "      <td>Dcounty[6]</td>\n",
       "    </tr>\n",
       "    <tr>\n",
       "      <th>27</th>\n",
       "      <td>2.855558</td>\n",
       "      <td>Dcounty[7]</td>\n",
       "    </tr>\n",
       "    <tr>\n",
       "      <th>28</th>\n",
       "      <td>3.997063</td>\n",
       "      <td>Dcounty[8]</td>\n",
       "    </tr>\n",
       "    <tr>\n",
       "      <th>29</th>\n",
       "      <td>2.392714</td>\n",
       "      <td>Dcounty[9]</td>\n",
       "    </tr>\n",
       "    <tr>\n",
       "      <th>30</th>\n",
       "      <td>2.149965</td>\n",
       "      <td>Dcounty[10]</td>\n",
       "    </tr>\n",
       "    <tr>\n",
       "      <th>31</th>\n",
       "      <td>2.304574</td>\n",
       "      <td>Dcounty[11]</td>\n",
       "    </tr>\n",
       "    <tr>\n",
       "      <th>32</th>\n",
       "      <td>2.324484</td>\n",
       "      <td>Dcounty[12]</td>\n",
       "    </tr>\n",
       "    <tr>\n",
       "      <th>33</th>\n",
       "      <td>3.853233</td>\n",
       "      <td>Dcounty[13]</td>\n",
       "    </tr>\n",
       "    <tr>\n",
       "      <th>34</th>\n",
       "      <td>2.354747</td>\n",
       "      <td>Dcounty[14]</td>\n",
       "    </tr>\n",
       "    <tr>\n",
       "      <th>35</th>\n",
       "      <td>2.331670</td>\n",
       "      <td>Dcounty[15]</td>\n",
       "    </tr>\n",
       "    <tr>\n",
       "      <th>36</th>\n",
       "      <td>3.414589</td>\n",
       "      <td>Dcounty[16]</td>\n",
       "    </tr>\n",
       "    <tr>\n",
       "      <th>37</th>\n",
       "      <td>2.247212</td>\n",
       "      <td>Dcounty[17]</td>\n",
       "    </tr>\n",
       "    <tr>\n",
       "      <th>38</th>\n",
       "      <td>2.216085</td>\n",
       "      <td>Dcounty[18]</td>\n",
       "    </tr>\n",
       "    <tr>\n",
       "      <th>39</th>\n",
       "      <td>2.630151</td>\n",
       "      <td>Dcounty[19]</td>\n",
       "    </tr>\n",
       "    <tr>\n",
       "      <th>40</th>\n",
       "      <td>2.203144</td>\n",
       "      <td>Dcounty[20]</td>\n",
       "    </tr>\n",
       "    <tr>\n",
       "      <th>41</th>\n",
       "      <td>3.108892</td>\n",
       "      <td>Dcounty[21]</td>\n",
       "    </tr>\n",
       "    <tr>\n",
       "      <th>42</th>\n",
       "      <td>4.860099</td>\n",
       "      <td>Dcounty[22]</td>\n",
       "    </tr>\n",
       "    <tr>\n",
       "      <th>43</th>\n",
       "      <td>3.894049</td>\n",
       "      <td>Dcounty[23]</td>\n",
       "    </tr>\n",
       "    <tr>\n",
       "      <th>44</th>\n",
       "      <td>2.083422</td>\n",
       "      <td>Dcounty[24]</td>\n",
       "    </tr>\n",
       "    <tr>\n",
       "      <th>45</th>\n",
       "      <td>2.485507</td>\n",
       "      <td>Dcounty[25]</td>\n",
       "    </tr>\n",
       "    <tr>\n",
       "      <th>46</th>\n",
       "      <td>2.487864</td>\n",
       "      <td>Dcounty[26]</td>\n",
       "    </tr>\n",
       "    <tr>\n",
       "      <th>47</th>\n",
       "      <td>4.567698</td>\n",
       "      <td>Dcounty[27]</td>\n",
       "    </tr>\n",
       "    <tr>\n",
       "      <th>48</th>\n",
       "      <td>2.368469</td>\n",
       "      <td>Dcounty[28]</td>\n",
       "    </tr>\n",
       "    <tr>\n",
       "      <th>49</th>\n",
       "      <td>3.018670</td>\n",
       "      <td>Dcounty[29]</td>\n",
       "    </tr>\n",
       "  </tbody>\n",
       "</table>\n",
       "</div>"
      ],
      "text/plain": [
       "             VIF     variable\n",
       "0   69355.267195    Intercept\n",
       "1       6.456394       lpolpc\n",
       "2       2.447069          d82\n",
       "3       4.389823          d83\n",
       "4       6.802920          d84\n",
       "5      12.789020          d85\n",
       "6      18.895610          d86\n",
       "7      26.209307          d87\n",
       "8       5.994092      lprbarr\n",
       "9       5.515282     lprbconv\n",
       "10      1.856125     lprbpris\n",
       "11     26.290499        lwfed\n",
       "12     29.838792        lwmfg\n",
       "13      1.593388        lwser\n",
       "14      2.066343        lwfir\n",
       "15      2.538986        lwtrd\n",
       "16      1.663948        lwtuc\n",
       "17      3.161007        lwcon\n",
       "18     13.289373        lwsta\n",
       "19     11.910732        lwloc\n",
       "20      2.855841   Dcounty[0]\n",
       "21      3.643316   Dcounty[1]\n",
       "22      2.537286   Dcounty[2]\n",
       "23      3.654706   Dcounty[3]\n",
       "24      3.519102   Dcounty[4]\n",
       "25      2.344803   Dcounty[5]\n",
       "26      3.081492   Dcounty[6]\n",
       "27      2.855558   Dcounty[7]\n",
       "28      3.997063   Dcounty[8]\n",
       "29      2.392714   Dcounty[9]\n",
       "30      2.149965  Dcounty[10]\n",
       "31      2.304574  Dcounty[11]\n",
       "32      2.324484  Dcounty[12]\n",
       "33      3.853233  Dcounty[13]\n",
       "34      2.354747  Dcounty[14]\n",
       "35      2.331670  Dcounty[15]\n",
       "36      3.414589  Dcounty[16]\n",
       "37      2.247212  Dcounty[17]\n",
       "38      2.216085  Dcounty[18]\n",
       "39      2.630151  Dcounty[19]\n",
       "40      2.203144  Dcounty[20]\n",
       "41      3.108892  Dcounty[21]\n",
       "42      4.860099  Dcounty[22]\n",
       "43      3.894049  Dcounty[23]\n",
       "44      2.083422  Dcounty[24]\n",
       "45      2.485507  Dcounty[25]\n",
       "46      2.487864  Dcounty[26]\n",
       "47      4.567698  Dcounty[27]\n",
       "48      2.368469  Dcounty[28]\n",
       "49      3.018670  Dcounty[29]"
      ]
     },
     "execution_count": 168,
     "metadata": {},
     "output_type": "execute_result"
    }
   ],
   "source": [
    "y,x = dmatrices('lcrmrte~lpolpc+d82+d83+d84+d85+d86+d87+lprbarr+lprbconv+lprbpris+lwfed+lwmfg+lwser+lwfir+lwtrd+lwtuc+lwcon+lwsta+lwloc+Dcounty',\n",
    "                data=df,return_type='dataframe')\n",
    "\n",
    "vif = pd.DataFrame()\n",
    "\n",
    "vif[\"VIF\"] = [variance_inflation_factor(x.values, i) for i in range(x.shape[1])]\n",
    "vif['variable'] = x.columns\n",
    "vif.head(50)           "
   ]
  },
  {
   "cell_type": "code",
   "execution_count": 169,
   "id": "230b6a5a-1668-43fe-9f49-7963e4545fc8",
   "metadata": {
    "tags": []
   },
   "outputs": [],
   "source": [
    "# According to the last estimated model, it can be seen that increasing the number of police officers per capita actually increases the amount of crime per capita.\n",
    "# We tested this model from several different directions:\n",
    "# 1. We omitted irrelevant variables (they are not significant and do not contribute to the explanation).\n",
    "# 2. Adding new explanatory variables that increase the explanatory power of the model.\n",
    "# 3. Correlation, vif and multicollinearity test - full and partial.\n",
    "# 4. Avoiding dummy variable trap.\n",
    "# 5. Testing joint significance tests of several variables that are not significant separately."
   ]
  },
  {
   "cell_type": "code",
   "execution_count": 170,
   "id": "b25eb222-9cfb-46cb-b4e3-10edd8fa21e4",
   "metadata": {
    "tags": []
   },
   "outputs": [],
   "source": [
    "# We would like to comment that although according to the model the obvious conclusion is that \n",
    "# increasing the number of police officers per capita increases the amount of crime per capita (a model with very significant explanatory power). \n",
    "# But, there are two problems that because of them we avoid unequivocal decisions:\n",
    "# 1. Omission of relevant variables that may not be in the data file or not collected.\n",
    "# 2. A problematic two-sided effect which means that placing a higher number of police officers will be in areas where crime has increased.\n",
    "# Although this effect is reduced when additional explanatory variables are included. But not necessarily gone completely.\n",
    "# It might be helpful to find an IV that solves this problem."
   ]
  }
 ],
 "metadata": {
  "kernelspec": {
   "display_name": "Python 3 (ipykernel)",
   "language": "python",
   "name": "python3"
  },
  "language_info": {
   "codemirror_mode": {
    "name": "ipython",
    "version": 3
   },
   "file_extension": ".py",
   "mimetype": "text/x-python",
   "name": "python",
   "nbconvert_exporter": "python",
   "pygments_lexer": "ipython3",
   "version": "3.11.3"
  }
 },
 "nbformat": 4,
 "nbformat_minor": 5
}
